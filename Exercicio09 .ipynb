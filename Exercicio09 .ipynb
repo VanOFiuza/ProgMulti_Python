{
 "cells": [
  {
   "cell_type": "markdown",
   "metadata": {},
   "source": [
    "  ### Exercício 09\n",
    "   **Nome**: Vanessa de Oliveira Fiuza <br>\n",
    "   **RA**: 817116855"
   ]
  },
  {
   "cell_type": "markdown",
   "metadata": {},
   "source": [
    "1- Faça um Programa que peça o raio de um círculo, calcule e mostre sua área."
   ]
  },
  {
   "cell_type": "code",
   "execution_count": 3,
   "metadata": {},
   "outputs": [
    {
     "name": "stdout",
     "output_type": "stream",
     "text": [
      "Digite o valor do raio: 2\n",
      "Área :  12.56\n"
     ]
    }
   ],
   "source": [
    "raio = float(input('Digite o valor do raio: '))\n",
    "\n",
    "area = 3.14 * (raio**2)\n",
    "\n",
    "print(\"Área : \",(area)) "
   ]
  },
  {
   "cell_type": "markdown",
   "metadata": {},
   "source": [
    "2- Faça um Programa que calcule a área de um quadrado, em seguida mostre o dobro desta área para o usuário. "
   ]
  },
  {
   "cell_type": "code",
   "execution_count": 3,
   "metadata": {},
   "outputs": [
    {
     "name": "stdout",
     "output_type": "stream",
     "text": [
      "Insira o valor do lado do quadrado: 1\n",
      "Área :  2.0\n"
     ]
    }
   ],
   "source": [
    "lado = float(input('Insira o valor do lado do quadrado: '))\n",
    "area = (lado*lado)\n",
    "\n",
    "print(\"Área : \",(area*2))"
   ]
  },
  {
   "cell_type": "markdown",
   "metadata": {},
   "source": [
    "3- Faça um Programa que pergunte quanto você ganha por hora e o número de horas trabalhadas\n",
    "no mês. Calcule e mostre o total do seu salário no referido mês. "
   ]
  },
  {
   "cell_type": "code",
   "execution_count": 6,
   "metadata": {},
   "outputs": [
    {
     "name": "stdout",
     "output_type": "stream",
     "text": [
      "Insira o valor do seu salario: 20\n",
      "Insira a quantidade de horas p/ dia: 2\n",
      "Seu salário no referido mês é 40.0\n"
     ]
    }
   ],
   "source": [
    "salario = float(input('Insira o valor do seu salario: '))\n",
    "horas   = int(input('Insira a quantidade de horas p/ dia: '))\n",
    "\n",
    "print (\"Seu salário no referido mês é\", (salario*horas))\n"
   ]
  },
  {
   "cell_type": "markdown",
   "metadata": {},
   "source": [
    "4- Faça um Programa que peça a temperatura em graus Farenheit, transforme \n",
    "e mostre a temperatura em graus Celsius.\n",
    "C = (5 * (F-32) / 9)."
   ]
  },
  {
   "cell_type": "code",
   "execution_count": 7,
   "metadata": {},
   "outputs": [
    {
     "name": "stdout",
     "output_type": "stream",
     "text": [
      "Insira a temperatura em graus  Farenheit: 72\n",
      "Em Graus Celsius:  22.22222222222222\n"
     ]
    }
   ],
   "source": [
    "f = float(input('Insira a temperatura em graus  Farenheit: '))\n",
    "print (\"Em Graus Celsius: \", (5*(f-32)/9))"
   ]
  },
  {
   "cell_type": "markdown",
   "metadata": {},
   "source": [
    "5- Faça um Programa que peça a temperatura em graus Celsius, transforme e mostre em graus Farenheit. "
   ]
  },
  {
   "cell_type": "code",
   "execution_count": 3,
   "metadata": {},
   "outputs": [
    {
     "name": "stdout",
     "output_type": "stream",
     "text": [
      "Insira a temperatura em graus Celsius: 38\n",
      "Em Graus Farenheit:  3.3333333333333335\n"
     ]
    }
   ],
   "source": [
    "c = float(input('Insira a temperatura em graus Celsius: '))\n",
    "print (\"Em Graus Farenheit: \", ((c-32) * 5/9 ))\n"
   ]
  },
  {
   "cell_type": "markdown",
   "metadata": {},
   "source": [
    "6-Faça um Programa que peça 2 números inteiros e um número real. Calcule e mostre: \n",
    "    - o produto do dobro do primeiro com metade do segundo . \n",
    "    - a soma do triplo do primeiro com o terceiro. \n",
    "    - o terceiro elevado ao cubo. "
   ]
  },
  {
   "cell_type": "code",
   "execution_count": 3,
   "metadata": {},
   "outputs": [
    {
     "name": "stdout",
     "output_type": "stream",
     "text": [
      "Insira o primeiro numero: 2\n",
      "Insira o segundo numero: 2\n",
      "Insira o terceiro numero: 2\n",
      "O produto do dobro do primeiro com metade do segundo:  4.0\n",
      "2\n",
      "A soma do triplo do primeiro com o terceiro:  8\n",
      "O terceiro elevado ao cubo:  8\n"
     ]
    }
   ],
   "source": [
    "n1 = int(input('Insira o primeiro numero: '))\n",
    "n2 = int(input('Insira o segundo numero: '))\n",
    "n3 = int(input('Insira o terceiro numero: '))\n",
    "\n",
    "print (\"O produto do dobro do primeiro com metade do segundo: \", ((n1*2) * n2/2 ))\n",
    "print(n1)\n",
    "print (\"A soma do triplo do primeiro com o terceiro: \", ((n1*3) + n3 ))\n",
    "print (\"O terceiro elevado ao cubo: \", ((n3**3)))"
   ]
  },
  {
   "cell_type": "markdown",
   "metadata": {},
   "source": [
    "7 João Papo-de-Pescador, homem de bem, comprou um microcomputador para controlar o rendimento diário de seu trabalho. Toda vez que ele traz um peso de peixes maior que o estabelecido pelo regulamento de pesca do estado de São Paulo (50 quilos) deve pagar uma multa de R$ 4,00 por quilo excedente. João precisa que você faça um programa que leia a variável peso (peso de peixes) e verifique se há excesso. Se houver, gravar na variável excesso e na variável multa o valor da multa que João deverá pagar. Caso contrário mostrar tais variáveis com o conteúdo ZERO"
   ]
  },
  {
   "cell_type": "code",
   "execution_count": 11,
   "metadata": {},
   "outputs": [
    {
     "name": "stdout",
     "output_type": "stream",
     "text": [
      "Insira o valor(kg): 52\n",
      "Excesso de  2.0 a multa será de  8.0 R$\n"
     ]
    }
   ],
   "source": [
    "kg = float(input('Insira o valor(kg): '))\n",
    "excesso =0\n",
    "multa = 0\n",
    "if kg<50 :\n",
    "    print(\"Excesso de \",excesso,\"a multa será de \",multa)\n",
    "else:\n",
    "    excesso = (kg-50)\n",
    "    multa = excesso *4\n",
    "    print(\"Excesso de \",excesso,\"a multa será de R$\",multa)\n"
   ]
  },
  {
   "cell_type": "markdown",
   "metadata": {},
   "source": [
    "8 Faça um Programa que pergunte quanto você ganha por hora e o número de horas trabalhadas no mês. Calcule e mostre o total do seu salário no referido mês, sabendo-se que são descontados 11% para o Imposto de Renda, 8% para o INSS e 5% para o sindicato, faça um programa que nos dê: \n",
    "- salário bruto. - quanto pagou ao INSS. \n",
    "- quanto pagou ao sindicato. \n",
    "- o salário líquido. \n",
    "- calcule os descontos e o salário líquido, conforme a tabela abaixo:            \n",
    "    + Salário Bruto : R$            \n",
    "    - IR (11%) : R$          \n",
    "    - INSS (8%) : R$         \n",
    "    - Sindicato ( 5%) : R$      \n",
    "    = Salário Liquido : R$ \n",
    "    \n",
    "    Obs.: Salário Bruto \n",
    "    - Descontos = Salário Líquido. "
   ]
  },
  {
   "cell_type": "code",
   "execution_count": 2,
   "metadata": {},
   "outputs": [
    {
     "name": "stdout",
     "output_type": "stream",
     "text": [
      "Insira o valor do seu salario: 20.000\n",
      "Insira a quantidade de horas p/mes: 2\n",
      "quanto pagou ao INSS:  3.2\n",
      "quanto pagou ao sindicato:  2.0\n",
      "quanto pagou de imposto de renda:  4.4\n",
      "salario liquido:  30.4\n",
      "salario bruto:  40.0\n"
     ]
    }
   ],
   "source": [
    "salario = float(input('Insira o valor do seu salario: '))\n",
    "horas   = int(input('Insira a quantidade de horas p/mes: '))\n",
    "\n",
    "salario *=horas\n",
    "salarioBruto = salario\n",
    "impostoRenda = salario*11/100\n",
    "inss= (salario*8/100)\n",
    "sindicato = (salario*5/100)\n",
    "salario -= impostoRenda + inss + sindicato\n",
    "print('quanto pagou ao INSS: ',inss )\n",
    "print('quanto pagou ao sindicato: ', sindicato )\n",
    "print('quanto pagou de imposto de renda: ', impostoRenda )\n",
    "print('salario liquido: ', salario )\n",
    "print('salario bruto: ', salarioBruto )\n"
   ]
  },
  {
   "cell_type": "markdown",
   "metadata": {},
   "source": [
    "9- Faça um programa que leia 2 strings e informe o conteúdo delas seguido do seu comprimento. Informe também se as duas strings possuem o mesmo comprimento e são iguais ou diferentes no conteúdo. \n",
    "Exemplo: \n",
    "-  String 1: Brasil Hexa 2018 \n",
    "-  String 2: Brasil! Hexa 2018! Tamanho de \"Brasil Hexa 2018\": 16 caracteres \n",
    "-  Tamanho de \"Brasil! Hexa 2018!\": 18 caracteres \n",
    "-  As duas strings são de tamanhos diferentes. \n",
    "-  As duas strings possuem conteúdo diferente. "
   ]
  },
  {
   "cell_type": "code",
   "execution_count": 10,
   "metadata": {},
   "outputs": [
    {
     "name": "stdout",
     "output_type": "stream",
     "text": [
      "Insira a primeira frase: 2\n",
      "Insira a segunda frase : 1212\n",
      "O tamanho de  2 :  1\n",
      "O tamanho de  1212 :  4\n",
      "As duas strings são de tamanhos diferentes.\n",
      "As duas strings possuem conteúdo diferente.\n"
     ]
    }
   ],
   "source": [
    "str1 = input('Insira a primeira frase: ')\n",
    "str2 = input('Insira a segunda frase : ')\n",
    "\n",
    "print('O tamanho de ', str1, ': ', len(str1))\n",
    "print('O tamanho de ', str2, ': ', len(str2))\n",
    "\n",
    "if len(str2) == len(str1):\n",
    "    print('As duas strings são de tamanhos iguais.')\n",
    "    cont=0 \n",
    "    for i in range(len(str1)):\n",
    "        if str1[cont]!=str2[cont] :\n",
    "            print('As duas strings possuem conteúdo diferente.')\n",
    "            break\n",
    "        \n",
    "        cont+=1\n",
    "        if cont==len(str1):  \n",
    "            print('As duas strings possuem conteúdo igual.')    \n",
    "    \n",
    "else :\n",
    "    print('As duas strings são de tamanhos diferentes.')\n",
    "    print('As duas strings possuem conteúdo diferente.')\n",
    "\n",
    "\n"
   ]
  },
  {
   "cell_type": "markdown",
   "metadata": {},
   "source": [
    "10 Faça um programa que permita ao usuário digitar o seu nome e em seguida mostre o nome do usuário de trás para frente utilizando somente letras maiúsculas. Dica: lembre−se que ao informar o nome o usuário pode digitar letras maiúsculas ou minúsculas. \n",
    "- Observação: não use loops."
   ]
  },
  {
   "cell_type": "code",
   "execution_count": 17,
   "metadata": {},
   "outputs": [
    {
     "name": "stdout",
     "output_type": "stream",
     "text": [
      "Digite seu nome van\n",
      "NAV\n"
     ]
    }
   ],
   "source": [
    "nome = input('Digite seu nome ')\n",
    "print(nome[::-1].upper())\n"
   ]
  },
  {
   "cell_type": "markdown",
   "metadata": {},
   "source": [
    "11- Faça um programa que solicite a data de nascimento (dd/mm/aaaa) do usuário e imprima a data com o nome do mês por extenso. Data de Nascimento: 29/10/1973 Você nasceu em  29 de Outubro de 1973. \n",
    "- Obs.: Não use desvio condicional nem loops. \n",
    " "
   ]
  },
  {
   "cell_type": "code",
   "execution_count": 26,
   "metadata": {
    "scrolled": true
   },
   "outputs": [
    {
     "name": "stdout",
     "output_type": "stream",
     "text": [
      "Insira sua data de nascimento: EX:((dd/mm/aaaa)11/04/1998\n",
      "Você nasceu em  11  de  Abril  de  1998\n"
     ]
    }
   ],
   "source": [
    "data = input('Insira sua data de nascimento: EX:((dd/mm/aaaa)') \n",
    "meses = ['Janeiro' ,'Fevereiro' ,'Março' ,'Abril' ,'Maio' ,'Junho' ,'Julho' ,'Agosto' ,'Setembro' ,'Novembro' ,'Dezembro'] \n",
    "listData = list(data.split('/'))\n",
    "mes = meses[int(listData[1])-1]\n",
    "\n",
    "print('Você nasceu em ',listData[0],' de ',mes,' de ',listData[2])"
   ]
  },
  {
   "cell_type": "markdown",
   "metadata": {},
   "source": [
    "12 Leet é uma forma de se escrever o alfabeto latino usando outros símbolos em lugar das letras, como números por exemplo. A própria palavra leet admite muitas variações, como l33t ou 1337. O uso do leet reflete uma subcultura relacionada ao mundo dos jogos de computador e internet, sendo muito usada para confundir os iniciantes e afirmar-se como parte de um grupo. Pesquise sobre as principais formas de traduzir as letras. Depois, faça um programa que peça uma texto e transforme-o para a grafia leet speak. \n",
    "\n",
    "-Desafio: não use loops nem desvios condicionais."
   ]
  },
  {
   "cell_type": "code",
   "execution_count": 4,
   "metadata": {},
   "outputs": [
    {
     "name": "stdout",
     "output_type": "stream",
     "text": [
      "insira um texto:texto\n",
      "73X70\n"
     ]
    }
   ],
   "source": [
    "entrada = 'abcdefghijklmnopqrstuvxwyz'.upper()\n",
    "saida = '48¢d3f6#1jklmn0pqr57uvxwy2'.upper()\n",
    "leet = str.maketrans(entrada, saida)\n",
    "texto = input('insira um texto:')\n",
    "print(texto.upper().translate(leet))"
   ]
  },
  {
   "cell_type": "markdown",
   "metadata": {},
   "source": [
    "Listas \n",
    " \n",
    "13 Crie um programa que recebe uma lista de números e \n",
    "- retorne o maior elemento \n",
    "- retorne a soma dos elementos \n",
    "- retorne o número de ocorrências do primeiro elemento da lista \n",
    "- retorne a média dos elementos \n",
    "- retorne o valor mais próximo da média dos elementos \n",
    "- retorne a soma dos elementos com valor negativo \n",
    "- retorne a quantidade de vizinhos iguais "
   ]
  },
  {
   "cell_type": "code",
   "execution_count": 6,
   "metadata": {},
   "outputs": [],
   "source": [
    "lista = [1,2,3,12,20,8]\n",
    "\n",
    "def maiorElemento(lista):\n",
    "    if len(lista) == 0:\n",
    "        return None\n",
    "    else:\n",
    "        ini = lista[0]\n",
    "        for i in lista:\n",
    "            if i > ini:\n",
    "                ini = i\n",
    "        return 'maior elemento -> '+str(ini)\n",
    "        \n",
    "def somaElementos(lista):\n",
    "    if len(lista) == 0:\n",
    "        return None\n",
    "    else:\n",
    "        result = 0\n",
    "        for i in lista:\n",
    "            result += i\n",
    "        return 'soma dos elementos -> '+str(result)\n",
    "\n",
    "def numeroOcorrenciasPrimeiroElemento(lista):\n",
    "    if len(lista) == 0:\n",
    "        return None\n",
    "    else:\n",
    "        ini = lista[0]\n",
    "        count = 0\n",
    "        for i in lista:\n",
    "            if i == ini:\n",
    "                count += 1\n",
    "        return 'número de ocorrências do primeiro elemento da lista -> '+str(count)\n",
    "\n",
    "def mediaElementos(lista):\n",
    "    if len(lista) == 0:\n",
    "        return None\n",
    "    else:\n",
    "        soma = 0\n",
    "        for i in lista:\n",
    "            soma += i\n",
    "        return 'média dos elementos -> '+str(soma/2)\n",
    "        \n",
    "def valorMaisProximoMedia(lista):\n",
    "        if len(lista) == 0:\n",
    "            return None\n",
    "        else:\n",
    "            soma = 0\n",
    "            media = 0\n",
    "            for i in lista:\n",
    "                soma += i\n",
    "            media = soma/len(lista)\n",
    "            diferenca = media / lista[0]\n",
    "            valorMaisProx = lista[0]\n",
    "            for i in lista:\n",
    "                if (media - i) < diferenca:\n",
    "                    diferenca = media - i\n",
    "                    valorMaisProx = i\n",
    "            return 'valor mais próximo da média dos elementos -> '+str(valorMaisProx)\n",
    "\n",
    "def somaElementosNegativo(lista):\n",
    "    if len(lista) == 0:\n",
    "        return None\n",
    "    else:\n",
    "        soma = 0\n",
    "        for i in lista:\n",
    "            soma += i\n",
    "        result = soma - (soma*2)\n",
    "        return 'soma dos elementos com valor negativo -> '+str(result)\n",
    "        \n",
    "def quantidadeVizinhosIguais(lista):\n",
    "    if len(lista) == 0:\n",
    "        return None\n",
    "    elif len(lista) == 1:\n",
    "        return 0\n",
    "    else:\n",
    "        count = 0\n",
    "        for i,v in enumerate(lista):\n",
    "            if i+1 != len(lista):\n",
    "                if lista[i] == lista[i+1]:\n",
    "                    count += 1\n",
    "            else:\n",
    "                return 'quantidade de vizinhos iguais -> '+str(count)\n",
    "                \n",
    "\n",
    "\n",
    "\n"
   ]
  },
  {
   "cell_type": "code",
   "execution_count": 8,
   "metadata": {},
   "outputs": [
    {
     "name": "stdout",
     "output_type": "stream",
     "text": [
      "maior elemento -> 20\n",
      "soma dos elementos -> 46\n",
      "número de ocorrências do primeiro elemento da lista -> 1\n",
      "média dos elementos -> 23.0\n",
      "valor mais próximo da média dos elementos -> 20\n",
      "soma dos elementos com valor negativo -> -46\n",
      "quantidade de vizinhos iguais -> 0\n"
     ]
    }
   ],
   "source": [
    "print(maiorElemento(lista))\n",
    "print(somaElementos(lista))\n",
    "print(numeroOcorrenciasPrimeiroElemento(lista))\n",
    "print(mediaElementos(lista))\n",
    "print(valorMaisProximoMedia(lista))\n",
    "print(somaElementosNegativo(lista))\n",
    "print(quantidadeVizinhosIguais(lista))"
   ]
  },
  {
   "cell_type": "markdown",
   "metadata": {},
   "source": [
    "14 Faça um programa que receba duas listas e retorne True se são iguais ou False caso contrario. Duas listas são iguais se possuem os mesmos valores e na mesma ordem. "
   ]
  },
  {
   "cell_type": "code",
   "execution_count": 8,
   "metadata": {},
   "outputs": [
    {
     "name": "stdout",
     "output_type": "stream",
     "text": [
      "True\n"
     ]
    }
   ],
   "source": [
    "lista1 = [1,2,3,6,7,8,4,9]\n",
    "lista2 = [1,2,3,6,7,8,4,9]\n",
    "\n",
    "if lista1 ==lista2 :\n",
    "    print (True)\n",
    "else :\n",
    "    print(False)"
   ]
  },
  {
   "cell_type": "markdown",
   "metadata": {},
   "source": [
    "15 Faça um programa que receba duas listas e retorne True se têm os mesmos elementos ou False caso contrário Duas listas possuem os mesmos elementos quando são compostas pelos mesmos valores, mas não obrigatoriamente na mesma ordem. "
   ]
  },
  {
   "cell_type": "code",
   "execution_count": 36,
   "metadata": {},
   "outputs": [
    {
     "name": "stdout",
     "output_type": "stream",
     "text": [
      "True\n"
     ]
    }
   ],
   "source": [
    "lista1 = [1,2,3,5,7,8,4,9]\n",
    "lista2 = [1,2,3,5,7,8,4,9]\n",
    "\n",
    "listaBool = list(set(lista1) - set(lista2))\n",
    "\n",
    "\n",
    "if len(listaBool) == 0:\n",
    "    print(True)\n",
    "else:\n",
    "    print(False)\n",
    "        \n",
    "\n"
   ]
  },
  {
   "cell_type": "markdown",
   "metadata": {},
   "source": [
    "16 Faça um programa que percorre uma lista com o seguinte formato: [['Brasil', 'Italia', [10, 9]], ['Brasil', 'Espanha', [5, 7]], ['Italia', 'Espanha', [7,8]]]. \n",
    " Essa lista indica o número de faltas que cada time fez em cada jogo. Na lista acima, no jogo entre Brasil e Itália, o Brasil fez 10 faltas e a Itália fez 9. O programa deve imprimir na tela: \n",
    "    - o total de faltas do campeonato  \n",
    "    - o time que fez mais faltas\n",
    "    - o time que fez menos faltas \n",
    " "
   ]
  },
  {
   "cell_type": "code",
   "execution_count": 43,
   "metadata": {},
   "outputs": [
    {
     "name": "stdout",
     "output_type": "stream",
     "text": [
      " Total de falta =  {'Brasil': 15, 'Italia': 16, 'Espanha': 15}  \n",
      " Maior quantidade de faltas =  ['Italia']  \n",
      " Menor quantidade de faltas =  ['Brasil', 'Espanha']\n"
     ]
    }
   ],
   "source": [
    "lista_jogos = [['Brasil','Italia', [10, 9]], ['Brasil', 'Espanha', [5, 7]], ['Italia', 'Espanha', [7,8]]]\n",
    "total_faltas = 0\n",
    "dict_times = {}\n",
    "\n",
    "menos_faltas = \"\"\n",
    "mais_faltas = \"\"\n",
    "\n",
    "for jogos in lista_jogos:\n",
    "    total_faltas = total_faltas + int(jogos[2][0]) + int(jogos[2][1])\n",
    "    for times, faltas in zip(jogos, jogos[2]):\n",
    "        if(dict_times.get(times)):\n",
    "            dict_times[times] = dict_times.get(times) + faltas\n",
    "        else:\n",
    "            dict_times[times] = faltas\n",
    "mais_faltas = []\n",
    "menos_faltas = []\n",
    "\n",
    "for k, v in dict_times.items():\n",
    "    if v == max(list(dict_times.values())):\n",
    "        mais_faltas.append(k)\n",
    "    if v == min(list(dict_times.values())):\n",
    "        menos_faltas.append(k)\n",
    "\n",
    "\n",
    "print(\" Total de falta = \", dict_times, \" \\n Maior quantidade de faltas = \",mais_faltas,\" \\n Menor quantidade de faltas = \",menos_faltas)"
   ]
  },
  {
   "cell_type": "markdown",
   "metadata": {},
   "source": [
    "17 Escreva um programa que conta a quantidade de vogais em uma string e armazena tal quantidade em um dicionário, onde a chave é a vogal considerada. "
   ]
  },
  {
   "cell_type": "code",
   "execution_count": 44,
   "metadata": {},
   "outputs": [
    {
     "name": "stdout",
     "output_type": "stream",
     "text": [
      "{'a': 3, 'i': 1}\n"
     ]
    }
   ],
   "source": [
    "texto = \"Abacaxi\"\n",
    "vogais = [\"a\", \"e\", \"i\", \"o\", \"u\"]\n",
    "\n",
    "vog = {}\n",
    "for v in vogais:\n",
    "    if v in texto:\n",
    "        vog[v] = list(texto.lower()).count(v)\n",
    "print(vog)"
   ]
  },
  {
   "cell_type": "markdown",
   "metadata": {},
   "source": [
    "18 Escreva um programa que lê̂ duas notas de vários alunos e armazena tais notas em um dicionário, onde a chave é o nome do aluno. A entrada de dados deve terminar quando for lida uma string vazia como nome. Escreva uma função que retorna a média do aluno, dado seu nome. "
   ]
  },
  {
   "cell_type": "code",
   "execution_count": 9,
   "metadata": {},
   "outputs": [
    {
     "name": "stdout",
     "output_type": "stream",
     "text": [
      "Digite o nome do alunoVanessa\n",
      "insira a primera nota8\n",
      "insira a segunda nota10\n",
      "Digite o nome do aluno\n",
      "insira o nome do aluno para saber a médiaVanessa\n",
      "A média do aluno Vanessa é 9.0\n"
     ]
    }
   ],
   "source": [
    "nome = input('Digite o nome do aluno')\n",
    "pergunta = False\n",
    "boletim = {}\n",
    "while len(nome) != 0: \n",
    "    if pergunta:\n",
    "        nome = input('Digite o nome do aluno')\n",
    "        if len(nome) == 0:\n",
    "            break\n",
    "    n1 = int(input('insira a primera nota'))\n",
    "    n2 = int(input('insira a segunda nota'))\n",
    "    boletim[nome]=[n1,n2]\n",
    "    if not pergunta:\n",
    "        pergunta = True\n",
    "        \n",
    "nome = input('insira o nome do aluno para saber a média')\n",
    "\n",
    "def mediaPorNome(arg):\n",
    "    notas = boletim.get(arg)\n",
    "    print('A média do aluno '+arg+' é '+str(sum(notas)/len(notas)))\n",
    "    \n",
    "mediaPorNome(nome)"
   ]
  },
  {
   "cell_type": "markdown",
   "metadata": {},
   "source": [
    "19 Uma pista de Kart permite 10 voltas para cada um de 6 corredores. Escreva um programa que leia todos os tempos em segundos e os guarde em um dicionário, onde a chave é o nome do corredor. Ao final diga de quem foi a melhor volta da prova e em que volta; e ainda a classificação final em ordem (1o o campeão). O campeão é o que tem a menor média de tempos"
   ]
  },
  {
   "cell_type": "code",
   "execution_count": null,
   "metadata": {},
   "outputs": [
    {
     "name": "stdout",
     "output_type": "stream",
     "text": [
      "nome do 1º corredor:Carlos\n",
      "digite o 1º tempo do corredor Carlos em segundos:10\n",
      "digite o 2º tempo do corredor Carlos em segundos:10\n",
      "digite o 3º tempo do corredor Carlos em segundos:8\n",
      "digite o 4º tempo do corredor Carlos em segundos:11\n",
      "digite o 5º tempo do corredor Carlos em segundos:11\n",
      "digite o 6º tempo do corredor Carlos em segundos:11\n",
      "nome do 2º corredor:13\n",
      "digite o 1º tempo do corredor 13 em segundos:13\n",
      "digite o 2º tempo do corredor 13 em segundos:18\n",
      "digite o 3º tempo do corredor 13 em segundos:18\n",
      "digite o 4º tempo do corredor 13 em segundos:18\n",
      "digite o 5º tempo do corredor 13 em segundos:27\n",
      "digite o 6º tempo do corredor 13 em segundos:7\n"
     ]
    }
   ],
   "source": [
    "corrida = {}\n",
    "melhoresVoltas = {}\n",
    "for i in range(6):\n",
    "    tempos = []\n",
    "    nome = input('nome do '+str(i+1)+'º corredor:')\n",
    "    for j in range(6):\n",
    "        tempos.append(float(input('digite o '+str(j+1)+'º tempo do corredor '+nome+' em segundos:')))\n",
    "    corrida[nome]=tempos\n",
    "    \n",
    "for i,k in enumerate(corrida.keys()):\n",
    "    melhoresVoltas[k]=[min(corrida.get(k)), corrida.get(k).index(min(corrida.get(k)))+1]\n",
    "\n",
    "melhoresVoltarSemIndex = {}\n",
    "lista = []\n",
    "for k,v in melhoresVoltas.items():\n",
    "    melhoresVoltarSemIndex[v[0]]=k\n",
    "    lista.append(v[0])\n",
    "\n",
    "lista.sort()\n",
    "print('Melhor volta da prova foi de '+melhoresVoltarSemIndex.get(lista[0])+\\\n",
    "      ', tempo de '+str(melhoresVoltas.get(melhoresVoltarSemIndex.get(lista[0]))[0])+' na volta '+\\\n",
    "      str(melhoresVoltas.get(melhoresVoltarSemIndex.get(lista[0]))[1]))\n",
    "\n",
    "classificacaoLista = []\n",
    "classificacaoMap = {}\n",
    "for k,v in corrida.items():\n",
    "    media = sum(v)/len(v)\n",
    "    classificacaoLista.append(media)\n",
    "    classificacaoMap[media]=k\n",
    "    \n",
    "classificacaoLista.sort()\n",
    "    \n",
    "print('Classificação: ')\n",
    "for i, v in enumerate(classificacaoLista):\n",
    "    print(str(i+1)+ 'º colocado -> '+classificacaoMap.get(v)+' com média de '+str(v))"
   ]
  },
  {
   "cell_type": "markdown",
   "metadata": {},
   "source": [
    "20 Escreva um programa para armazenar uma agenda de telefones em um dicionário. Cada pessoa pode ter um ou mais telefones e a chave do dicionário é o nome da pessoa. Seu programa deve ter as seguintes funções:\n",
    "\n",
    "incluirNovoNome – essa função acrescenta um novo nome na agenda, com um ou mais telefones. Ela deve receber como argumentos o nome e os telefones.\n",
    "incluirTelefone – essa função acrescenta um telefone em um nome existente na agenda. Caso o nome não exista na agenda, você̂ deve perguntar se a pessoa deseja inclui-lo. Caso a resposta seja afirmativa, use a função anterior para incluir o novo nome.\n",
    "excluirTelefone – essa função exclui um telefone de uma pessoa que já está na agenda. Se a pessoa tiver apenas um telefone, ela deve ser excluída da agenda.\n",
    "excluirNome – essa função exclui uma pessoa da agenda.\n",
    "consultarTelefone – essa função retorna os telefones de uma pessoa na agenda."
   ]
  },
  {
   "cell_type": "code",
   "execution_count": null,
   "metadata": {},
   "outputs": [],
   "source": [
    "agenda = {}\n",
    "\n",
    "def incluirNovoNome(nome, listaTel):\n",
    "    agenda[nome]=list(listaTel.split(','))\n",
    "    \n",
    "def incluirTelefone(nome, tel):\n",
    "    if agenda.get(nome) != None:\n",
    "        lista = agenda.get(nome)\n",
    "        lista.append(tel)\n",
    "        agenda[nome]=lista\n",
    "        return True\n",
    "    else:\n",
    "        return False\n",
    "    \n",
    "def excluirTelefone(nome, tel):\n",
    "    if len(agenda.get(nome)) > 1:\n",
    "        lista = []\n",
    "        listaAgenda = agenda.get(nome)\n",
    "        for i in listaAgenda:\n",
    "            if i != tel:\n",
    "                lista.append(i)\n",
    "        agenda[nome]=lista\n",
    "    elif len(agenda.get(nome)) == 1:\n",
    "        agenda.pop(nome)\n",
    "        \n",
    "def excluirNome(nome):\n",
    "    agenda.pop(nome)\n",
    "    \n",
    "def consultarTelefone(nome):\n",
    "    return agenda.get(nome)\n",
    "\n",
    "menu = int(input('1) incluirNovoNome\\n2) incluirTelefone\\n3) excluirTelefone\\n4) excluirNome\\\n",
    "\\n5) consultarTelefone\\n6) Sair'))\n",
    "pergunta = False\n",
    "while menu != 6:\n",
    "    if pergunta:\n",
    "        menu = int(input('1) incluirNovoNome\\n2) incluirTelefone\\n3) excluirTelefone\\n4) excluirNome\\\n",
    "        \\n5) consultarTelefone\\n6) Sair'))\n",
    "    else:\n",
    "        pergunta = True\n",
    "    \n",
    "    if menu == 1:\n",
    "        nome = input('Digite o nome')\n",
    "        tel = input('Insira telefone, ou N telefones separados por virgula (11111,22222,33333)')\n",
    "        incluirNovoNome(nome, tel)\n",
    "       # print(agenda)\n",
    "    elif menu == 2:\n",
    "        nome = input('Digite o nome')\n",
    "        tel = input('Insira 1 (um) telefone novo')\n",
    "        if incluirTelefone(nome, tel):\n",
    "            print(agenda)\n",
    "        else:\n",
    "            resp = input('deseja incluir este novo nome na agenda? S/N')\n",
    "            if resp.upper() == 'S':\n",
    "                incluirNovoNome(nome, tel)\n",
    "        #        print(agenda)\n",
    "    elif menu == 3:\n",
    "        nome = input('Digite o nome')\n",
    "        tel = input('Digite o telefone que deseja excluir')\n",
    "        excluirTelefone(nome, tel)\n",
    "       # print(agenda)\n",
    "    elif menu == 4:\n",
    "        nome = input('Digite o nome')\n",
    "        excluirNome(nome) \n",
    "        #print(agenda)\n",
    "    elif menu == 5:\n",
    "        nome = input('Digite o nome')\n",
    "        print(consultarTelefone(nome))\n",
    "        #print(agenda)\n",
    "    elif menu == 6:\n",
    "        #print(agenda)\n",
    "        print('Tchau =)')\n",
    "        \n",
    "        "
   ]
  },
  {
   "cell_type": "markdown",
   "metadata": {},
   "source": [
    "21 Faça um programa que leia um arquivo texto contendo uma lista de endereços IP e gere um outro arquivo, contendo um relatório dos endereços IP válidos e inválidos. O arquivo de entrada possui o seguinte formato:\n",
    "\n",
    "- 200.135.80.9\n",
    "- 192.168.1.1\n",
    "- 8.35.67.74\n",
    "- 257.32.4.5\n",
    "- 85.345.1.2\n",
    "- 1.2.3.4\n",
    "- 9.8.234.5\n",
    "- 192.168.0.256 \n",
    " \n",
    "O arquivo de saída possui o seguinte formato: \n",
    "\n",
    "[Endereços válidos:]\n",
    "- 200.135.80.9\n",
    "- 192.168.1.1\n",
    "- 8.35.67.74\n",
    "- 1.2.3.4 \n",
    "\n",
    "[Endereços inválidos:]\n",
    "- 257.32.4.5\n",
    "- 85.345.1.2\n",
    "- 9.8.234.5\n",
    "- 192.168.0.256"
   ]
  },
  {
   "cell_type": "code",
   "execution_count": null,
   "metadata": {},
   "outputs": [],
   "source": [
    "valido = list()\n",
    "invalido = list()\n",
    "for ip in open('arquivo.txt', 'r'):\n",
    "    l_ip = ip.split('.')\n",
    "    l_ip = list(map(int, l_ip))\n",
    "    if len(l_ip) != 4:\n",
    "        invalido.append(l_ip)\n",
    "    else:\n",
    "        for i in l_ip:\n",
    "            if i < 0 or i > 255:\n",
    "                invalido.append(l_ip)\n",
    "                break\n",
    "        else:\n",
    "            valido.append(l_ip)\n",
    "print('Validos:')\n",
    "for i in valido:\n",
    "    print(f'{i[0]}.{i[1]}.{i[2]}.{i[3]}')\n",
    "print('\\nInvalidos:')\n",
    "for i in invalido:\n",
    "    print(f'{i[0]}.{i[1]}.{i[2]}.{i[3]}')"
   ]
  },
  {
   "cell_type": "markdown",
   "metadata": {},
   "source": [
    "22 A ACME Inc., uma empresa de 500 funcionários, está tendo problemas de espaço em disco no seu servidor de arquivos. Para tentar resolver este problema, o Administrador de Rede precisa saber qual o espaço ocupado pelos usuários, e identificar os usuários com maior espaço ocupado. Através de um programa, baixado da Internet, ele conseguiu gerar o seguinte arquivo, chamado \"usuarios.txt\":\n",
    "\n",
    "- alexandre 456123789\n",
    "- anderson 1245698456\n",
    "- antonio 123456456\n",
    "- carlos 91257581\n",
    "- cesar 987458\n",
    "- rosemary 789456125\n",
    "Neste arquivo, o nome do usuário possui 15 caracteres. A partir deste arquivo, você deve criar um programa que gere um relatório, chamado \"relatório.txt\", no seguinte formato:\n",
    "\n",
    "ACME Inc. Uso do espaço em disco pelos usuários ----------------------------------------------------------------------- Nr. Usuário Espaço utilizado % do uso\n",
    "\n",
    "- 1 alexandre 434,99 MB 16,85%\n",
    "- 2 anderson 1187,99 MB 46,02%\n",
    "- 3 antonio 117,73 MB 4,56%\n",
    "- 4 carlos 87,03 MB 3,37%\n",
    "- 5 cesar 0,94 MB 0,04%\n",
    "- 6 rosemary 752,88 MB 29,16%\n",
    "\n",
    "Espaço total ocupado: 2581,57 MB Espaço médio ocupado: 430,26 MB\n",
    "\n",
    "O arquivo de entrada deve ser lido uma única vez, e os dados armazenados em memória, caso sejam necessários, de forma a agilizar a execução do programa. A conversão da espaço ocupado em disco, de bytes para megabytes deverá ser feita através de uma função separada, que será chamada pelo programa principal. O cálculo do percentual de uso também deverá ser feito através de uma função, que será chamada pelo programa principal."
   ]
  },
  {
   "cell_type": "code",
   "execution_count": null,
   "metadata": {},
   "outputs": [],
   "source": [
    "def format_bytes(size):\n",
    "    # 2**10 = 1024\n",
    "    potencia = 2**10\n",
    "    n = 0\n",
    "    while n < 2:\n",
    "        size /= potencia\n",
    "        n += 1\n",
    "    return size\n",
    "\n",
    "def percentual_uso(usoTotal, usoPessoa):\n",
    "    return (100 * usoPessoa) / usoTotal\n",
    "\n",
    "lista = []\n",
    "for i in open('usuarios.txt', 'r'):\n",
    "    lista.append(i.split())\n",
    "\n",
    "usoTotal = 0\n",
    "for i in lista:\n",
    "    usoTotal += format_bytes(int(i[1]))\n",
    "usoTotal = '%.2f' %usoTotal\n",
    "\n",
    "espacoMedio = float(usoTotal)/len(lista)    \n",
    "espacoMedio = '%.2f' %espacoMedio\n",
    "\n",
    "relatorio = open('relatorio.txt','w+')\n",
    "for i,v in enumerate(lista):\n",
    "    relatorio.write(str(i+1)+' ')\n",
    "    relatorio.write(v[0])\n",
    "    relatorio.write(' ')\n",
    "    mb = format_bytes(int(v[1]))\n",
    "    relatorio.write('%.2f' %mb)\n",
    "    relatorio.write(' MB ')\n",
    "    percentual = percentual_uso(float(usoTotal), mb)\n",
    "    relatorio.write('%.2f' %percentual)\n",
    "    relatorio.write('%')\n",
    "    relatorio.write('\\n')\n",
    "relatorio.write('Espaço total ocupado: '+str(usoTotal)+' MB Espaço médio ocupado: '+str(espacoMedio)+' MB')\n",
    "relatorio.close()\n",
    "\n",
    "for i in open('relatorio.txt','r'):\n",
    "    print(i)"
   ]
  },
  {
   "cell_type": "code",
   "execution_count": null,
   "metadata": {},
   "outputs": [],
   "source": []
  }
 ],
 "metadata": {
  "kernelspec": {
   "display_name": "Python 3",
   "language": "python",
   "name": "python3"
  },
  "language_info": {
   "codemirror_mode": {
    "name": "ipython",
    "version": 3
   },
   "file_extension": ".py",
   "mimetype": "text/x-python",
   "name": "python",
   "nbconvert_exporter": "python",
   "pygments_lexer": "ipython3",
   "version": "3.7.3"
  }
 },
 "nbformat": 4,
 "nbformat_minor": 2
}
