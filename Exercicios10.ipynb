{
 "cells": [
  {
   "cell_type": "markdown",
   "metadata": {},
   "source": [
    "  ### Exercício 10\n",
    "   **Nome**: Vanessa de Oliveira Fiuza <br>\n",
    "   **RA**: 817116855"
   ]
  },
  {
   "cell_type": "markdown",
   "metadata": {},
   "source": [
    "1. Faça um Programa que peça dois números e imprima o maior deles."
   ]
  },
  {
   "cell_type": "code",
   "execution_count": 5,
   "metadata": {},
   "outputs": [
    {
     "name": "stdout",
     "output_type": "stream",
     "text": [
      "Digite o primeiro numero: 10\n",
      "Digite o segundo numero: 8\n",
      "Maior numero 10\n"
     ]
    }
   ],
   "source": [
    "\n",
    "num1 = int(input(\"Digite o primeiro numero: \"))\n",
    "num2 = int(input(\"Digite o segundo numero: \"))\n",
    "\n",
    "if num1 > num2:\n",
    "    print(f\"Maior numero {num1}\")\n",
    "else:\n",
    "    print(f\"Maior numero {num2}\")"
   ]
  },
  {
   "cell_type": "markdown",
   "metadata": {},
   "source": [
    "\n",
    "2. Faça um Programa que verifique se uma letra digitada é vogal ou consoante."
   ]
  },
  {
   "cell_type": "code",
   "execution_count": 8,
   "metadata": {},
   "outputs": [
    {
     "name": "stdout",
     "output_type": "stream",
     "text": [
      "Digite uma letra: a\n",
      " A letra: A, informada é uma vogal\n"
     ]
    }
   ],
   "source": [
    "vogal = ['A', 'E', 'I', 'O', 'U']\n",
    "\n",
    "letra = input(\"Digite uma letra: \").upper()\n",
    "\n",
    "if letra in vogal:\n",
    "    print (f\" A letra: {letra}, informada é uma vogal\" )\n",
    "else: \n",
    "    print (f\" A letra: {letra}, informada não é uma vogal\" )"
   ]
  },
  {
   "cell_type": "markdown",
   "metadata": {},
   "source": [
    "3- Faça um programa para a leitura de duas notas parciais de um aluno. O programa deve calcular a média alcançada por aluno e apresentar:\n",
    "- A mensagem \"Aprovado\", se a média alcançada for maior ou igual a sete;\n",
    "- A mensagem \"Reprovado\", se a média for menor do que sete;\n",
    "- A mensagem \"Aprovado com Distinção\", se a média for igual a dez"
   ]
  },
  {
   "cell_type": "code",
   "execution_count": 9,
   "metadata": {},
   "outputs": [
    {
     "name": "stdout",
     "output_type": "stream",
     "text": [
      "Aprovado\n"
     ]
    }
   ],
   "source": [
    "nota1 = 8\n",
    "nota2 = 7\n",
    "\n",
    "media = (nota1 + nota2 )/ 2\n",
    "\n",
    "if media == 10:\n",
    "    print(\"Aprovado com Distinção\")\n",
    "elif media >= 7:\n",
    "    print(\"Aprovado\")\n",
    "else:\n",
    "    print(\"Reprovado\")"
   ]
  },
  {
   "cell_type": "markdown",
   "metadata": {},
   "source": [
    "4. Faça um Programa que leia três números e mostre-os em ordem decrescente"
   ]
  },
  {
   "cell_type": "code",
   "execution_count": 10,
   "metadata": {},
   "outputs": [
    {
     "name": "stdout",
     "output_type": "stream",
     "text": [
      "20\n",
      "12\n",
      "8\n"
     ]
    }
   ],
   "source": [
    "numeros = [8, 12, 20]\n",
    "\n",
    "numeros.sort\n",
    "for n in reversed(numeros):\n",
    "    print(n)"
   ]
  },
  {
   "cell_type": "markdown",
   "metadata": {},
   "source": [
    "5 -As Organizações Tabajara resolveram dar um aumento de salário aos seus colaboradores e lhe contrataram para desenvolver o programa que calculará os reajustes. Faça um programa que recebe o salário de um colaborador e o reajuste segundo o seguinte critério, baseado no salário atual:\n",
    "- salários até rs 280,00 (incluindo) : aumento de 20%\n",
    "- salários entre rs 280,00 e rs 700,00 : aumento de 15%\n",
    "- salários entre rs 700,00 e rs 1500,00 : aumento de 10%\n",
    "- salários de rs 1500,00 em diante : aumento de 5% Após o aumento ser realizado,\n",
    "informe na tela:\n",
    "- o salário antes do reajuste;\n",
    "- o percentual de aumento aplicado;\n",
    "- o valor do aumento;\n",
    "- o novo salário, após o aumento."
   ]
  },
  {
   "cell_type": "code",
   "execution_count": 11,
   "metadata": {},
   "outputs": [
    {
     "name": "stdout",
     "output_type": "stream",
     "text": [
      "Insira o salário: 19\n",
      "Salário antes do reajuste: 19.0\n",
      "Percentual de aumento aplicado: 20.0%\n",
      "Valor do aumento: 3.8000000000000003\n",
      "Novo salário: 22.8\n"
     ]
    }
   ],
   "source": [
    "salario = float(input('Insira o salário de um colaborador: '))\n",
    "if salario <= 280:\n",
    "    percentual = 0.20\n",
    "elif salario > 280 and salario <= 700:\n",
    "    percentual = 0.15\n",
    "elif salario > 700 and salario <= 1500:\n",
    "    percentual = 0.10\n",
    "else:\n",
    "    percentual = 0.05\n",
    "novoSalario = salario + (salario * percentual)\n",
    "\n",
    "print('Salário antes do reajuste:', salario)\n",
    "print(f'Percentual de aumento aplicado: {percentual * 100}%')\n",
    "print('Valor do aumento:', salario * percentual)\n",
    "print('Novo salário:', novoSalario)"
   ]
  },
  {
   "cell_type": "markdown",
   "metadata": {},
   "source": [
    "6. Faça um Programa que leia um número e exiba o dia correspondente da semana. (1-Domingo, 2- Segunda, etc.), se digitar outro valor deve aparecer valor inválido"
   ]
  },
  {
   "cell_type": "code",
   "execution_count": 12,
   "metadata": {},
   "outputs": [
    {
     "name": "stdout",
     "output_type": "stream",
     "text": [
      "Digite um numero correspondente ao dia da semana: 5\n",
      "Quinta\n"
     ]
    }
   ],
   "source": [
    "dias = {1:'Domingo', 2:'Segunda', 3:'Terca', 4:'Quarta', 5:'Quinta', 6:'Sexta', 7:'Sabado'}\n",
    "\n",
    "d = int(input(\"Digite um numero correspondente ao dia da semana: \"))\n",
    "\n",
    "if d in dias.keys():\n",
    "    print(dias[d])\n",
    "else:\n",
    "    print(\"Invalido\")"
   ]
  },
  {
   "cell_type": "markdown",
   "metadata": {},
   "source": [
    "7- Faça um programa que lê as duas notas parciais obtidas por um aluno numa disciplina ao longo de um semestre, e calcule a sua média. A atribuição de conceitos obedece à tabela abaixo:\n",
    "Média de Aproveitamento Conceito\n",
    "- Entre 9.0 e 10.0 A\n",
    "- Entre 7.5 e 9.0 B\n",
    "- Entre 6.0 e 7.5 C\n",
    "- Entre 4.0 e 6.0 D\n",
    "- Entre 4.0 e zero E\n",
    "- O algoritmo deve mostrar na tela as notas, a média, o conceito correspondente e a mensagem “APROVADO” se o conceito for A, B ou C ou “REPROVADO” se o conceito for D ou E."
   ]
  },
  {
   "cell_type": "code",
   "execution_count": 13,
   "metadata": {},
   "outputs": [
    {
     "name": "stdout",
     "output_type": "stream",
     "text": [
      "Insira a primeira nota: 10\n",
      "Insira a segunda nota: 6\n",
      "Nota 1: 10.0\n",
      "Nota 2: 6.0\n",
      "Média: 8.0\n",
      "Conceito: B\n",
      "você foi APROVADO\n"
     ]
    }
   ],
   "source": [
    "n1 = float(input('Insira a primeira nota: '))\n",
    "n2 = float(input('Insira a segunda nota: '))\n",
    "media = (n1 + n2) / 2\n",
    "if media >= 9 and media <= 10:\n",
    "    conceito = 'A'\n",
    "elif media >= 7.5 and media < 9:\n",
    "    conceito = 'B'\n",
    "elif media >= 6 and media < 7.5:\n",
    "    conceito = 'C'\n",
    "elif media >= 4 and media < 6:\n",
    "    conceito = 'D'\n",
    "elif media < 4:\n",
    "    conceito = 'E'\n",
    "print(f'Nota 1: {n1}\\nNota 2: {n2}\\nMédia: {media}\\nConceito: {conceito}')\n",
    "if conceito <= \"C\":\n",
    "    print(\"você foi APROVADO\")\n",
    "else:\n",
    "    print(\"você foi REPROVADO\")"
   ]
  },
  {
   "cell_type": "markdown",
   "metadata": {},
   "source": [
    "8- Faça um Programa que peça os 3 lados de um triângulo. O programa deverá informar se os valores podem ser um triângulo. Indique, caso os lados formem um triângulo, se o mesmo é: equilátero, isósceles ou escaleno. Dicas:\n",
    "- Três lados formam um triângulo quando a soma de quaisquer dois lados for maior que o terceiro;\n",
    "- Triângulo Equilátero: três lados iguais;\n",
    "- Triângulo Isósceles: quaisquer dois lados iguais;\n",
    "- Triângulo Escaleno: três lados diferentes;"
   ]
  },
  {
   "cell_type": "code",
   "execution_count": 15,
   "metadata": {},
   "outputs": [
    {
     "name": "stdout",
     "output_type": "stream",
     "text": [
      "Insira o primeiro lado: 10\n",
      "Insira o segundo lado: 10\n",
      "Insira o terceiro lado: 10\n",
      "Os valores podem ser um triângulo.\n",
      "Os valoresa formam um triângulo equilátero.\n"
     ]
    }
   ],
   "source": [
    "l1 = float(input('Insira o primeiro lado: '))\n",
    "l2 = float(input('Insira o segundo lado: '))\n",
    "l3 = float(input('Insira o terceiro lado: '))\n",
    "\n",
    "if l1 < l2 + l3 and l2 < l1 + l3 and l3 < l1 + l2:\n",
    "    print('Os valores podem ser um triângulo.')\n",
    "    if l1 == l2 == l3:\n",
    "        print('Os valoresa formam um triângulo equilátero.')\n",
    "    elif l1 == l2 or l1 == l3 or l2 == l3:\n",
    "        print('Os valores formam um triângulo isósceles.')\n",
    "    else:\n",
    "        print('Os valores formam um triângulo escaleno.')\n",
    "else:\n",
    "    print('Os valores não podem ser um triângulo.')"
   ]
  },
  {
   "cell_type": "markdown",
   "metadata": {},
   "source": [
    "9- Faça um programa que calcule as raízes de uma equação do segundo grau, na forma ax2 + bx + c. O programa deverá pedir os valores de a, b e c e fazer as consistências, informando ao usuário nas seguintes situações:\n",
    "- Se o usuário informar o valor de A igual a zero, a equação não é do segundo grau e o programa não deve fazer pedir os demais valores, sendo encerrado;\n",
    "- Se o delta calculado for negativo, a equação não possui raizes reais. Informe ao usuário e encerre o programa;\n",
    "- Se o delta calculado for igual a zero a equação possui apenas uma raiz real; informe-a ao usuário;\n",
    "- Se o delta for positivo, a equação possui duas raiz reais; informe-as ao usuário;"
   ]
  },
  {
   "cell_type": "code",
   "execution_count": 17,
   "metadata": {},
   "outputs": [
    {
     "name": "stdout",
     "output_type": "stream",
     "text": [
      "Insira o A: 4\n",
      "Insira o B: 6\n",
      "Insira o C: 10\n",
      "A equação não possui raizes reais, programa encerrado\n"
     ]
    }
   ],
   "source": [
    "a = float(input('Insira o A: '))\n",
    "if a == 0:\n",
    "    print(\"Não é uma equação de segundo grau, programa encerrado.\")\n",
    "else:\n",
    "    b = float(input('Insira o B: '))\n",
    "    c = float(input('Insira o C: '))\n",
    "    delta = b**2 - 4*a*c\n",
    "    if delta < 0:\n",
    "        print(\"A equação não possui raizes reais, programa encerrado\")\n",
    "    elif delta == 0:\n",
    "        x = -b / (2*a)\n",
    "        print(\"A equação possui apenas uma raiz real:\", x)\n",
    "    else:\n",
    "        x1 = (-b + math.sqrt(delta)) / (2*a)\n",
    "        x2 = (-b - math.sqrt(delta)) / (2*a)\n",
    "        print(f\"A equação possui duas raiz reais: {x1} e {x2}\")"
   ]
  },
  {
   "cell_type": "markdown",
   "metadata": {},
   "source": [
    "10- Faça um Programa para um caixa eletrônico. O programa deverá perguntar ao usuário a valor do saque e depois informar quantas notas de cada valor serãofornecidas. As notas disponíveis serão as de 1, 5, 10, 50 e 100 reais. O valor mínimo é de 10 reais e o máximo de 600 reais. O programa não deve se preocupar com a quantidade de notas existentes na máquina.\n",
    "- Exemplo 1: Para sacar a quantia de 256 reais, o programa fornece duas notas de 100, uma nota de 50, uma nota de 5 e uma nota de 1;\n",
    "- Exemplo 2: Para sacar a quantia de 399 reais, o programa fornece três notas de 100, uma nota de 50, quatro notas de 10, uma nota de 5 e quatro notas de 1"
   ]
  },
  {
   "cell_type": "code",
   "execution_count": 18,
   "metadata": {},
   "outputs": [
    {
     "name": "stdout",
     "output_type": "stream",
     "text": [
      "Informe o valor a ser sacado: 10\n",
      "0 notas de 100 reais;\n",
      "0 notas de 50 reais;\n",
      "1 notas de 10 reais;\n",
      "0 notas de 5 reais;\n",
      "0 notas de 1 real.\n"
     ]
    }
   ],
   "source": [
    "saque = int(input(\"Informe o valor a ser sacado: \"))\n",
    "if saque >= 10 and saque <= 600:\n",
    "    n100 = saque // 100\n",
    "    resto = saque % 100\n",
    "    print(f'{n100} notas de 100 reais;')\n",
    "    n50 = resto // 50\n",
    "    resto = resto % 50\n",
    "    print(f'{n50} notas de 50 reais;')\n",
    "    n10 = resto // 10\n",
    "    resto = resto % 10\n",
    "    print(f'{n10} notas de 10 reais;')\n",
    "    n5 = resto // 5\n",
    "    resto = resto % 5\n",
    "    print(f'{n5} notas de 5 reais;')\n",
    "    print(f'{resto} notas de 1 real.')\n",
    "else:\n",
    "    print(\"Valor não permitido.\")"
   ]
  },
  {
   "cell_type": "markdown",
   "metadata": {},
   "source": [
    "11- Faça um programa que faça 5 perguntas para uma pessoa sobre um crime. As perguntas são:\n",
    "\"Telefonou para a vítima?\"\n",
    "\"Esteve no local do crime?\"\n",
    "\"Mora perto da vítima?\"\n",
    "\"Devia para a vítima?\"\n",
    "\"Já trabalhou com a vítima?\"\n",
    "O programa deve no final emitir uma classificação sobre a participação da pessoa no crime. Se a pessoa responder positivamente a 2 questões ela deve ser classificada como \"Suspeita\", entre 3 e 4 como \"Cúmplice\" e 5 como \"Assassino\". Caso contrário, ele será classificado como \"Inocente\".¶"
   ]
  },
  {
   "cell_type": "code",
   "execution_count": 19,
   "metadata": {},
   "outputs": [
    {
     "name": "stdout",
     "output_type": "stream",
     "text": [
      "Telefonou para a vítima? (s/n): s\n",
      "Esteve no local do crime? (s/n): s\n",
      "Mora perto da vítima? (s/n): s\n",
      "Devia para a vítima? (s/n): s\n",
      "Já trabalhou com a vítima? (s/n): s\n",
      "Assassino\n"
     ]
    }
   ],
   "source": [
    "pontos = 0\n",
    "respostas = [\n",
    "    input(\"Telefonou para a vítima? (s/n): \"),\n",
    "    input(\"Esteve no local do crime? (s/n): \"),\n",
    "    input(\"Mora perto da vítima? (s/n): \"),\n",
    "    input(\"Devia para a vítima? (s/n): \"),\n",
    "    input(\"Já trabalhou com a vítima? (s/n): \")\n",
    "]\n",
    "\n",
    "for resposta in respostas:\n",
    "    if resposta == \"s\":\n",
    "        pontos += 1\n",
    "        \n",
    "if pontos == 2:\n",
    "    print(\"Suspeita\")\n",
    "elif pontos >= 3 and pontos <= 4:\n",
    "    print(\"Cúmplice\")\n",
    "elif pontos == 5:\n",
    "    print(\"Assassino\")\n",
    "else:\n",
    "    print(\"Inocente\")"
   ]
  },
  {
   "cell_type": "markdown",
   "metadata": {},
   "source": [
    "12- Uma fruteira está vendendo frutas com a seguinte tabela de preços:\n",
    "Se o cliente comprar mais de 8 Kg em frutas ou o valor total da compra ultrapassar 25,00Reais receberá ainda um desconto de 10% sobre este total. Escreva um algoritmo para ler a quantidade (em Kg) de morangos e a quantidade (em Kg) de maças adquiridas e escreva o valor a ser pago pelo cliente."
   ]
  },
  {
   "cell_type": "code",
   "execution_count": 20,
   "metadata": {},
   "outputs": [
    {
     "name": "stdout",
     "output_type": "stream",
     "text": [
      "Insira a quantidade em kg de morangos: 19\n",
      "Insira a quantidade em kg de maçãs: 19\n",
      "Valor a ser pago:  63.27000000000001\n"
     ]
    }
   ],
   "source": [
    "preco = 0\n",
    "kgMorg = float(input(\"Insira a quantidade em kg de morangos: \"))\n",
    "kgMaca = float(input(\"Insira a quantidade em kg de maçãs: \"))\n",
    "\n",
    "if kgMorg < 5:\n",
    "    preco += kgMorg * 2.50\n",
    "else:\n",
    "    preco += kgMorg * 2.20\n",
    "    \n",
    "if kgMaca < 5:\n",
    "    preco += kgMaca * 1.80\n",
    "else:\n",
    "    preco += kgMaca * 1.50\n",
    "    \n",
    "if preco > 25.00:\n",
    "    preco *= 0.90\n",
    "\n",
    "print('Valor a ser pago: ', preco)"
   ]
  },
  {
   "cell_type": "markdown",
   "metadata": {},
   "source": [
    "13- Faça um programa que peça uma nota, entre zero e dez. Mostre uma mensagem caso o valor seja inválido e continue pedindo até que o usuário informe um valor válido."
   ]
  },
  {
   "cell_type": "code",
   "execution_count": 22,
   "metadata": {},
   "outputs": [
    {
     "name": "stdout",
     "output_type": "stream",
     "text": [
      "Insira uma nota entre zero e dez: 10\n",
      "Valor válido.\n"
     ]
    }
   ],
   "source": [
    "\n",
    "num = int(input(\"Insira uma nota entre zero e dez: \"))\n",
    "while num < 0 or num > 10:\n",
    "    print(\"Valor inválido.\")\n",
    "    num = int(input(\"Insira uma nota entre zero e dez: \"))\n",
    "else:\n",
    "    print(\"Valor válido.\")"
   ]
  },
  {
   "cell_type": "markdown",
   "metadata": {},
   "source": [
    "14- Faça um programa que leia e valide as seguintes informações:\n",
    "Nome: maior que 3 caracteres;\n",
    "Idade: entre 0 e 150;\n",
    "Salário: maior que zero;\n",
    "Sexo: 'f' ou 'm';\n",
    "Estado Civil: 's', 'c', 'v', 'd';"
   ]
  },
  {
   "cell_type": "code",
   "execution_count": 25,
   "metadata": {},
   "outputs": [
    {
     "name": "stdout",
     "output_type": "stream",
     "text": [
      "Insira o nome (maior que três caracteres): Vanessa\n",
      "Insira a idade (0 - 150): 21\n",
      "Insira o salário (maior que zero): 1300000000\n",
      "Insira o sexo (f/m): f\n",
      "Insira o estado civil (s/c/v/d): s\n"
     ]
    }
   ],
   "source": [
    "nome = input(\"Insira o nome (maior que três caracteres): \")\n",
    "while len(nome) <= 3:\n",
    "    nome = input(\"Insira o nome (maior que três caracteres): \")\n",
    "    \n",
    "idade = int(input(\"Insira a idade (0 - 150): \"))\n",
    "while idade < 0 or idade > 150:\n",
    "    idade = int(input(\"Insira a idade (0 - 150): \"))\n",
    "    \n",
    "salario = int(input(\"Insira o salário (maior que zero): \"))\n",
    "while salario <= 0:\n",
    "    salario = int(input(\"Insira o salário (maior que zero): \"))\n",
    "    \n",
    "sexo = input(\"Insira o sexo (f/m): \")\n",
    "while not (sexo in ['f', 'm']):\n",
    "    sexo = input(\"Insira o sexo (f/m): \")\n",
    "    \n",
    "estadocivil = input(\"Insira o estado civil (s/c/v/d): \")\n",
    "while not (estadocivil in ['s', 'c', 'v', 'd']):\n",
    "    estadocivil = input(\"Insira o estado civil (s/c/v/d): \")"
   ]
  },
  {
   "cell_type": "markdown",
   "metadata": {},
   "source": [
    "15 -Faça um programa que leia 5 números e informe o maior número"
   ]
  },
  {
   "cell_type": "code",
   "execution_count": 26,
   "metadata": {},
   "outputs": [
    {
     "name": "stdout",
     "output_type": "stream",
     "text": [
      "Digite o 1º número: 10\n",
      "Digite o 2º número: 20\n",
      "Digite o 3º número: 30\n",
      "Digite o 4º número: 40\n",
      "Digite o 5º número: 50\n",
      "Maior: 50\n"
     ]
    }
   ],
   "source": [
    "maior = int(input(\"Digite o 1º número: \"))\n",
    "for num in range(2,6):\n",
    "    x = int(input(f\"Digite o {num}º número: \"))\n",
    "    if x > maior:\n",
    "        maior = x\n",
    "print(\"Maior:\", maior)"
   ]
  },
  {
   "cell_type": "markdown",
   "metadata": {},
   "source": [
    "16: Faça um programa que leia 5 números e informe a soma e a média dos números."
   ]
  },
  {
   "cell_type": "code",
   "execution_count": 28,
   "metadata": {},
   "outputs": [
    {
     "name": "stdout",
     "output_type": "stream",
     "text": [
      "Digite o 1º número: 5\n",
      "Digite o 2º número: 5\n",
      "Digite o 3º número: 5\n",
      "Digite o 4º número: 5\n",
      "Digite o 5º número: 5\n",
      "Soma: 25\n",
      "Media: 5.0\n"
     ]
    }
   ],
   "source": [
    "soma = 0\n",
    "for num in range(1,6):\n",
    "    soma += int(input(f\"Digite o {num}º número: \"))\n",
    "print(\"Soma:\", soma)\n",
    "print(\"Media:\", soma / 5)"
   ]
  },
  {
   "cell_type": "markdown",
   "metadata": {},
   "source": [
    "17. Faça um programa que imprima na tela apenas os números ímpares entre 1 e 50."
   ]
  },
  {
   "cell_type": "code",
   "execution_count": 30,
   "metadata": {},
   "outputs": [
    {
     "name": "stdout",
     "output_type": "stream",
     "text": [
      "[1, 3, 5, 7, 9, 11, 13, 15, 17, 19, 21, 23, 25, 27, 29, 31, 33, 35, 37, 39, 41, 43, 45, 47, 49]\n"
     ]
    }
   ],
   "source": [
    "numero = list()\n",
    "for num in range(1, 51):\n",
    "    if num % 2 != 0:\n",
    "        numero.append(num)\n",
    "print(numero)"
   ]
  },
  {
   "cell_type": "markdown",
   "metadata": {},
   "source": [
    "18. Desenvolva um gerador de tabuada, capaz de gerar a tabuada de qualquer número inteiro entre 1 a 10. O usuário deve informar de qual numero ele deseja ver a tabuada. A saída deve ser conforme o exemplo abaixo:"
   ]
  },
  {
   "cell_type": "code",
   "execution_count": 31,
   "metadata": {},
   "outputs": [
    {
     "name": "stdout",
     "output_type": "stream",
     "text": [
      "Insira um número inteiro entre 1 a 10: 2\n",
      "2 X 0 = 0\n",
      "2 X 1 = 2\n",
      "2 X 2 = 4\n",
      "2 X 3 = 6\n",
      "2 X 4 = 8\n",
      "2 X 5 = 10\n",
      "2 X 6 = 12\n",
      "2 X 7 = 14\n",
      "2 X 8 = 16\n",
      "2 X 9 = 18\n",
      "2 X 10 = 20\n"
     ]
    }
   ],
   "source": [
    "\n",
    "tabuada = int(input(\"Insira um número inteiro entre 1 a 10: \"))\n",
    "for mt in range(0, 11):\n",
    "    res = mt*tabuada\n",
    "    print(f\"{tabuada} X {mt} = {res}\")"
   ]
  },
  {
   "cell_type": "markdown",
   "metadata": {},
   "source": [
    "19. A série de Fibonacci é formada pela seqüência 1,1,2,3,5,8,13,21,34,55,... Faça um programa capaz de gerar a série até o n−ésimo termo."
   ]
  },
  {
   "cell_type": "code",
   "execution_count": null,
   "metadata": {},
   "outputs": [],
   "source": [
    "a = 0\n",
    "b = 1\n",
    "lista = list()\n",
    "limite = int(input(\"Até qual termo? \"))\n",
    "for i in range(limite):\n",
    "    lista.append(a)\n",
    "    aux = b\n",
    "    b = a + b\n",
    "    a = aux\n",
    "print(lista)"
   ]
  },
  {
   "cell_type": "markdown",
   "metadata": {},
   "source": [
    "20- Faça um programa que calcule o fatorial de um número inteiro fornecido pelo usuário. Ex.: 5!=5.4.3.2.1=120"
   ]
  },
  {
   "cell_type": "code",
   "execution_count": null,
   "metadata": {},
   "outputs": [],
   "source": [
    "fatorial = int(input(\"Fatorial de: \"))\n",
    "for i in range(1, fatorial):\n",
    "    fatorial = fatorial * i\n",
    "print(fatorial)"
   ]
  },
  {
   "cell_type": "markdown",
   "metadata": {},
   "source": [
    "21- O Sr. Manoel Joaquim possui uma grande loja de artigos de 1,99, com cerca de 10 caixas. Para agilizar o cálculo de quanto cada cliente deve pagar ele desenvolveu um tabela que contém o número de itens que o cliente comprou e ao lado o valor da conta. Desta forma a atendente do caixa precisa apenas contar quantos itens o cliente está levando e olhar na tabela de preços. Você foi contratado para desenvolver o programa que monta esta tabela de preços, que conterá os preços de 1 até 50 produtos, conforme o exemplo abaixo"
   ]
  },
  {
   "cell_type": "code",
   "execution_count": null,
   "metadata": {},
   "outputs": [],
   "source": [
    "\n",
    "for num in range(1, 51):\n",
    "    preco = num * 1.99\n",
    "    print(f\"{num} - R$ {preco}\")"
   ]
  },
  {
   "cell_type": "markdown",
   "metadata": {},
   "source": [
    "22. O Sr. Manoel Joaquim acaba de adquirir uma panificadora e pretende implantar a metodologia da tabelinha, que já é um sucesso na sua loja de 1,99. Você foi contratado para desenvolver o programa que monta a tabela de preços de pães, de 1 até 50 pães, a partir do preço do pão informado pelo usuário, conforme o exemplo abaixo"
   ]
  },
  {
   "cell_type": "code",
   "execution_count": null,
   "metadata": {},
   "outputs": [],
   "source": [
    "\n",
    "preco = float(input(\"Insira o valor do pão: \"))\n",
    "for num in range(1, 51):\n",
    "    total = num * preco\n",
    "    print(\"%s - R$ %.2f\" % (num, total))"
   ]
  },
  {
   "cell_type": "markdown",
   "metadata": {},
   "source": [
    "23. O Sr. Manoel Joaquim expandiu seus negócios para além dos negócios de 1,99 e agora possui uma loja de conveniências. Faça um programa que implemente uma caixa registradora rudimentar. O programa deverá receber um número desconhecido de valores referentes aos preços das mercadorias. Um valor zero deve ser informado pelo operador para indicar o final da compra. O programa eve então mostrar o total da compra e perguntar o valor em dinheiro que o cliente forneceu, para então calcular e mostrar o valor do troco. Após esta operação, o programa deverá voltar ao ponto inicial, para registrar a próxima compra. A saída deve ser conforme o exemplo abaixo:"
   ]
  },
  {
   "cell_type": "code",
   "execution_count": null,
   "metadata": {},
   "outputs": [],
   "source": [
    "total = 0\n",
    "preco = -1\n",
    "i = 0\n",
    "while preco != 0:\n",
    "    preco = float(input(\"Insira o preço do item (Digite '0' para finalizar a compra): \"))\n",
    "    total += preco\n",
    "    i += 1\n",
    "    if preco == 0:\n",
    "        print(f\"Total: R$ {total}\")\n",
    "        pago = float(input(\"Insira o valor a ser pago: \"))\n",
    "        print(\"Troco: R$ \", pago - total)\n",
    "    else:\n",
    "        print(f\"Produto {i}: R$ {preco}\")"
   ]
  },
  {
   "cell_type": "markdown",
   "metadata": {},
   "source": [
    "\n",
    "24- Foi feita uma estatística em cinco cidades brasileiras para coletar dados sobre acidentes de trânsito. Foram obtidos os seguintes dados:\n",
    "- Código da cidade;\n",
    "- Número de veículos de passeio (em 1999);\n",
    "- Número de acidentes de trânsito com vítimas (em 1999). Deseja-se saber:\n",
    "- Qual o maior e menor índice de acidentes de transito e a que cidade pertence;\n",
    "- Qual a média de veículos nas cinco cidades juntas;\n",
    "- Qual a média de acidentes de trânsito nas cidades com menos de 2.000 veículos de passeio."
   ]
  },
  {
   "cell_type": "code",
   "execution_count": null,
   "metadata": {},
   "outputs": [],
   "source": [
    "\n",
    "cidades = {\n",
    "    #cod #veiculos #acidentes\n",
    "    \"cidade0\": [6753, 12],\n",
    "    \"cidade1\": [7503, 23],\n",
    "    \"cidade2\": [607, 3],\n",
    "    \"cidade3\": [450, 2],\n",
    "    \"cidade4\": [12045, 47]\n",
    "}\n",
    "\n",
    "menorIndice = [cidades[\"cidade0\"][0], cidades[\"cidade0\"][1]]\n",
    "maiorIndice = [cidades[\"cidade0\"][0], cidades[\"cidade0\"][1]]\n",
    "somaVeiculos = 0\n",
    "somaAcidentes = 0\n",
    "contCidades = 0\n",
    "for cod in cidades:\n",
    "    somaVeiculos += cidades[cod][0]\n",
    "    if cidades[cod][0] < 2000:\n",
    "        somaAcidentes += cidades[cod][1]\n",
    "        contCidades += 1\n",
    "    if cidades[cod][1] > maiorIndice[0]:\n",
    "        maiorIndice[0] = cidades[cod][1]\n",
    "        maiorIndice[1] = cod\n",
    "    if cidades[cod][1] < menorIndice[0]:\n",
    "        menorIndice[0] = cidades[cod][1]\n",
    "        menorIndice[1] = cod\n",
    "        \n",
    "    \n",
    "mediaVeiculos = somaVeiculos / len(cidades.keys())\n",
    "mediaAcidentes = somaAcidentes / contCidades\n",
    "\n",
    "print(f\"Maior índice e a cidade: {maiorIndice}\")\n",
    "print(f\"Menor índice e a cidade: {menorIndice}\")\n",
    "print(f\"Média de veículos nas cinco cidades juntas: {mediaVeiculos}\" )\n",
    "print(f\"Média de acidentes de trânsito nas cidades com menos de 2.000 veículos de passeio: {mediaAcidentes}\" )"
   ]
  },
  {
   "cell_type": "markdown",
   "metadata": {},
   "source": [
    "25. Faça um programa que receba o valor de uma dívida e mostre uma tabela com os seguintes dados: valor da dívida, valor dos juros, quantidade de parcelas e valor da parcela. Os juros e a quantidade de parcelas seguem a tabela abaixo: Quantidade de Parcelas % de Juros sobre o valor inicial da dívida"
   ]
  },
  {
   "cell_type": "code",
   "execution_count": null,
   "metadata": {},
   "outputs": [],
   "source": [
    "dividaInicial = float(input(\"Insira o valor da dívida: \"))\n",
    "print(\"Dívida \\t Valor Juros \\t Qtde Parcelas \\t Valor da Parcela\")\n",
    "for i in range(0, 5):\n",
    "    if i == 0:\n",
    "        juros = 0\n",
    "    elif i == 1:\n",
    "        juros = 10\n",
    "    else:\n",
    "        juros += 5\n",
    "    valorJuros = dividaInicial * (juros / 100)\n",
    "    divida = dividaInicial + valorJuros\n",
    "    if i == 0:\n",
    "        qtdeParc = 1\n",
    "    else:\n",
    "        qtdeParc = i * 3\n",
    "    if qtdeParc != 0:\n",
    "        valorParcela = divida / qtdeParc\n",
    "    else:\n",
    "        valorParcela = divida\n",
    "    print(f\"R$ {divida} \\t {valorJuros} \\t {qtdeParc} \\t R$ %.2f\"%(valorParcela))"
   ]
  },
  {
   "cell_type": "markdown",
   "metadata": {},
   "source": [
    "\n",
    "26. Faça um programa que mostre os n termos da Série a seguir: S = 1/1 + 2/3 + 3/5 + 4/7 + 5/9 + ... + n/m. Imprima no final a soma da série"
   ]
  },
  {
   "cell_type": "code",
   "execution_count": null,
   "metadata": {},
   "outputs": [],
   "source": [
    "termo = int(input('Insira a quantidade de termos desejada: '))\n",
    "\n",
    "somaStr = \"S = \"\n",
    "s = 0\n",
    "m = 1\n",
    "for n in range(1, termo + 1):\n",
    "    s += n / m\n",
    "    somaStr += str(n) + \"/\" + str(m)\n",
    "    if n != termo:\n",
    "        somaStr += \" + \"\n",
    "    m += 2\n",
    "\n",
    "print(somaStr)\n",
    "print('Soma da série: %s' % s)"
   ]
  }
 ],
 "metadata": {
  "kernelspec": {
   "display_name": "Python 3",
   "language": "python",
   "name": "python3"
  },
  "language_info": {
   "codemirror_mode": {
    "name": "ipython",
    "version": 3
   },
   "file_extension": ".py",
   "mimetype": "text/x-python",
   "name": "python",
   "nbconvert_exporter": "python",
   "pygments_lexer": "ipython3",
   "version": "3.7.3"
  }
 },
 "nbformat": 4,
 "nbformat_minor": 2
}
