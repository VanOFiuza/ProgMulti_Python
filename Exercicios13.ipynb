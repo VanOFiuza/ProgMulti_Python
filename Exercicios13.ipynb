{
 "cells": [
  {
   "cell_type": "markdown",
   "metadata": {},
   "source": [
    "  ### Exercício 13\n",
    "   **Nome**: Vanessa de Oliveira Fiuza <br>\n",
    "   **RA**: 817116855"
   ]
  },
  {
   "cell_type": "markdown",
   "metadata": {},
   "source": [
    "1 Defina a função soma_nat que recebe como argumento um número natural n e devolve a soma de todos os números naturais até n.\n",
    "\n",
    "Ex: soma_nat(5) = 15"
   ]
  },
  {
   "cell_type": "code",
   "execution_count": 1,
   "metadata": {},
   "outputs": [
    {
     "data": {
      "text/plain": [
       "15"
      ]
     },
     "execution_count": 1,
     "metadata": {},
     "output_type": "execute_result"
    }
   ],
   "source": [
    "soma_nat = lambda n : 1 if n == 1 else n + soma_nat(n-1)\n",
    "\n",
    "soma_nat(5)"
   ]
  },
  {
   "cell_type": "markdown",
   "metadata": {},
   "source": [
    "2- Defina a função div que recebe como argumentos dois números naturais  m   e  n  e devolve o resultado da divisão inteira de  m  por  n. Neste exercício você não pode recorrer às operações aritméticas de multiplicação, divisão e resto da divisão inteira. \n",
    " \n",
    "Ex: div(7,2) = 3 "
   ]
  },
  {
   "cell_type": "code",
   "execution_count": 2,
   "metadata": {},
   "outputs": [
    {
     "data": {
      "text/plain": [
       "3"
      ]
     },
     "execution_count": 2,
     "metadata": {},
     "output_type": "execute_result"
    }
   ],
   "source": [
    "div = lambda m, n : 0 if m < n else 1 + div(m-n,n)\n",
    "div(7,2)"
   ]
  },
  {
   "cell_type": "markdown",
   "metadata": {},
   "source": [
    "3 Defina a função prim_alg que recebe como argumento um número natural e devolve o primeiro algarismo (o mais significativo) na representação decimal de  n. \n",
    " \n",
    "Ex: prim_alg(5649) = 5 Ex: prim_alg(7) = 7 "
   ]
  },
  {
   "cell_type": "code",
   "execution_count": 5,
   "metadata": {},
   "outputs": [
    {
     "name": "stdout",
     "output_type": "stream",
     "text": [
      "5\n",
      "7\n"
     ]
    }
   ],
   "source": [
    "prim_alg = lambda n : str(n)[0]\n",
    "\n",
    "print (prim_alg(5649))\n",
    "print (prim_alg(7))"
   ]
  },
  {
   "cell_type": "markdown",
   "metadata": {},
   "source": [
    "4 Defina a função prod_lista que recebe como argumento uma lista de inteiros e devolve o produto dos seus elementos. \n",
    " \n",
    "Ex: prod_lista([1,2,3,4,5,6]) = 720 "
   ]
  },
  {
   "cell_type": "code",
   "execution_count": 1,
   "metadata": {},
   "outputs": [
    {
     "data": {
      "text/plain": [
       "True"
      ]
     },
     "execution_count": 1,
     "metadata": {},
     "output_type": "execute_result"
    }
   ],
   "source": [
    "prod_lista = lambda w : False if len(w)==0 else True \\\n",
    "    if w.pop(0) else contem_parQ(w)\n",
    "\n",
    "prod_lista([1,2,3,4,5,6])"
   ]
  },
  {
   "cell_type": "markdown",
   "metadata": {},
   "source": [
    "5 Defina a função contem_parQ que recebe como argumento uma lista de números inteiros w e devolve True se w contém um número par e False em caso contrário.\n",
    "\n",
    "Ex: contem_parQ([2,3,1,2,3,4]) = True\n",
    "Ex: contem_parQ([1,3,5,7]) = False"
   ]
  },
  {
   "cell_type": "code",
   "execution_count": 22,
   "metadata": {},
   "outputs": [
    {
     "name": "stdout",
     "output_type": "stream",
     "text": [
      "True\n",
      "False\n"
     ]
    }
   ],
   "source": [
    "contem_parQ = lambda w: False if len(w)==0 else True \\\n",
    "    if w.pop()%2==0 else contem_parQ(w)\n",
    "\n",
    "print(contem_parQ([2,3,1,2,3,4]))\n",
    "print(contem_parQ([1,3,5,7]))"
   ]
  },
  {
   "cell_type": "markdown",
   "metadata": {},
   "source": [
    "6 Defina a função todos_imparesQ que recebe como argumento uma lista de números inteiros w e devolve True se w contém apenas números ímpares e False em caso contrário.\n",
    "\n",
    "Ex: todos_imparesQ([1,3,5,7]) = True"
   ]
  },
  {
   "cell_type": "code",
   "execution_count": 24,
   "metadata": {},
   "outputs": [
    {
     "name": "stdout",
     "output_type": "stream",
     "text": [
      "False\n",
      "True\n"
     ]
    }
   ],
   "source": [
    "todos_imparesQ = lambda w: True if len(w)==0 else False \\\n",
    "    if w.pop()%2==0 else contem_parQ(w)\n",
    "\n",
    "print(todos_imparesQ([1,3,5,7]))\n",
    "print(todos_imparesQ([1,3,2,7]))"
   ]
  },
  {
   "cell_type": "markdown",
   "metadata": {},
   "source": [
    "7 Defina a função pertenceQ que recebe como argumentos uma lista de números inteiros  w  e um número inteiro  n  e devolve True se  n  ocorre em  w  e False em caso contrário. \n",
    " \n",
    "- Ex: pertenceQ([1,2,3],1) = True \n",
    "- Ex: pertenceQ([1,2,3],2) = True\n",
    "- Ex: pertenceQ([1,2,3],3) = True \n",
    "- Ex: pertenceQ([1,2,3],4) = False "
   ]
  },
  {
   "cell_type": "code",
   "execution_count": 27,
   "metadata": {},
   "outputs": [
    {
     "name": "stdout",
     "output_type": "stream",
     "text": [
      "True\n",
      "True\n",
      "True\n",
      "False\n"
     ]
    }
   ],
   "source": [
    "pertenceQ = lambda m, n : False if len(m)==0 else True \\\n",
    "    if m.pop()== n  else pertenceQ(m, n)\n",
    "\n",
    "print (pertenceQ([1,2,3],1))\n",
    "print (pertenceQ([1,2,3],2))\n",
    "print (pertenceQ([1,2,3],3))\n",
    "print (pertenceQ([1,2,3],4))"
   ]
  },
  {
   "cell_type": "markdown",
   "metadata": {},
   "source": [
    "8 Defina a função junta que recebe como argumentos duas listas de números inteiros w1 e w2 e devolve a concatenação de w1 com w2 .\n",
    "\n",
    "Ex: junta([1,2,3],[4,5,6]) = [1, 2, 3, 4, 5, 6]\n",
    "Ex: junta([],[4,5,6]) = [4, 5, 6]\n",
    "Ex: junta([1,2,3],[]) = [1, 2, 3]"
   ]
  },
  {
   "cell_type": "code",
   "execution_count": 34,
   "metadata": {},
   "outputs": [
    {
     "name": "stdout",
     "output_type": "stream",
     "text": [
      "[1, 2, 3, 4, 5, 6]\n",
      "[4, 5, 6]\n",
      "[1, 2, 3]\n"
     ]
    }
   ],
   "source": [
    "junta = lambda v,w: w if len(v)==0 else v if len(w)==0 else v \\\n",
    "    if len(junta_sep(v,w))== len(w) else v\n",
    "\n",
    "print(junta([1,2,3],[4,5,6]))\n",
    "print(junta([],[4,5,6]))\n",
    "print(junta([1,2,3],[]))"
   ]
  },
  {
   "cell_type": "markdown",
   "metadata": {},
   "source": [
    "9 Defina a função temPrimoQ que recebe como argumento uma lista de listas de números inteiros w e devolve True se alguma das sublistas w tem um número primo e False em caso contrário. -Ex: temPrimoQ([[4,4,4,4],[5,4,6,7],[2,4,3]]) = True -Ex: temPrimoQ([[4,4,4,4],[4,4,4],[],[4]]) = False"
   ]
  },
  {
   "cell_type": "code",
   "execution_count": 35,
   "metadata": {},
   "outputs": [
    {
     "name": "stdout",
     "output_type": "stream",
     "text": [
      "True\n",
      "False\n",
      "False\n",
      "True\n"
     ]
    }
   ],
   "source": [
    "primo = lambda n: len([i for i in range(2,n) if n%i==0])==0 \n",
    "extrai_lista = lambda w: None if len(w)==0 else w.pop()\n",
    "lista_primo = lambda v: False if v == None or len(v)==0 else True if primo(v.pop()) else lista_primo(v)\n",
    "temPrimoQ = lambda w: True if lista_primo(extrai_lista(w)) else False if len(w) == 0 else temPrimoQ(w)\n",
    "\n",
    "print(temPrimoQ([[4,4,4,4],[5,4,6,7],[2,4,3]]))\n",
    "print(temPrimoQ([[4,4,4,4],[4,4,4],[],[4]]))\n",
    "print(temPrimoQ([[]]))\n",
    "print(temPrimoQ([[2]]))"
   ]
  },
  {
   "cell_type": "markdown",
   "metadata": {},
   "source": [
    "10 Defina a função inverteLista que recebe como argumento uma lista w e devolve a mesma lista mas invertida.\n",
    "\n",
    "Ex: inverteLista([1,2,3,4,5]) = [5, 4, 3, 2, 1]\n",
    "Ex: inverteLista([])"
   ]
  },
  {
   "cell_type": "code",
   "execution_count": 36,
   "metadata": {},
   "outputs": [
    {
     "name": "stdout",
     "output_type": "stream",
     "text": [
      "[5, 4, 3, 2, 1]\n",
      "[2, 3, 1]\n",
      "[]\n"
     ]
    }
   ],
   "source": [
    "inverte_lista = lambda w: w[::-1]\n",
    "print(inverte_lista([1,2,3,4,5]))\n",
    "print(inverte_lista([1,3,2]))\n",
    "print(inverte_lista([]))"
   ]
  },
  {
   "cell_type": "code",
   "execution_count": null,
   "metadata": {},
   "outputs": [],
   "source": []
  }
 ],
 "metadata": {
  "kernelspec": {
   "display_name": "Python 3",
   "language": "python",
   "name": "python3"
  },
  "language_info": {
   "codemirror_mode": {
    "name": "ipython",
    "version": 3
   },
   "file_extension": ".py",
   "mimetype": "text/x-python",
   "name": "python",
   "nbconvert_exporter": "python",
   "pygments_lexer": "ipython3",
   "version": "3.7.3"
  }
 },
 "nbformat": 4,
 "nbformat_minor": 2
}
