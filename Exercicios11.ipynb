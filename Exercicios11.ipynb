{
 "cells": [
  {
   "cell_type": "markdown",
   "metadata": {},
   "source": [
    "  ### Exercício 11\n",
    "  \n",
    "   **Nome**: Vanessa de Oliveira Fiuza <br>\n",
    "   **RA**: 817116855"
   ]
  },
  {
   "cell_type": "markdown",
   "metadata": {},
   "source": [
    "1- Menor de dois pares: Escreva uma função que retorne o menor de dois números dados se ambos os números forem pares, mas retorna o maior se um dos dois for ímpar.\n",
    "- Exemplo: menor_de_dois_pares(2,4) --> 2 menor_de_dois_pares (2,5) --> 5 \n"
   ]
  },
  {
   "cell_type": "code",
   "execution_count": 8,
   "metadata": {
    "scrolled": true
   },
   "outputs": [
    {
     "name": "stdout",
     "output_type": "stream",
     "text": [
      "4\n",
      "7\n"
     ]
    }
   ],
   "source": [
    "def menor_de_dois_pares(n1,n2):\n",
    "    if n1% 2 == 0 and n2%2 == 0 :\n",
    "        if n1>n2 :\n",
    "            print(n2)\n",
    "        else :\n",
    "            print(n1)\n",
    "    else :\n",
    "        if n1>n2 :\n",
    "            print(n1)\n",
    "        else :\n",
    "            print(n2)\n",
    "            \n",
    "            \n",
    "menor_de_dois_pares(4,8)\n",
    "menor_de_dois_pares(7,5)"
   ]
  },
  {
   "cell_type": "markdown",
   "metadata": {},
   "source": [
    "2 Mesma letra: Escreva uma função que receba uma string com duas palavras e retorne True se ambas palavras começarem com a mesma letra. Exemplo: \n",
    "- mesma_letra('Cão covarde') -> True\n",
    "- mesma_letra('Vira Lata') -> False \n",
    " "
   ]
  },
  {
   "cell_type": "code",
   "execution_count": 14,
   "metadata": {},
   "outputs": [
    {
     "name": "stdout",
     "output_type": "stream",
     "text": [
      "True\n",
      "False\n"
     ]
    }
   ],
   "source": [
    "def mesma_letra(str):\n",
    "    palavras = list(str.split(' '))\n",
    "    if palavras[0][0].upper() == palavras[1][0].upper():\n",
    "        return True\n",
    "    else :\n",
    "        return False\n",
    "\n",
    "print(mesma_letra('Cão covarde'))\n",
    "print(mesma_letra('Vira Lata'))"
   ]
  },
  {
   "cell_type": "code",
   "execution_count": 21,
   "metadata": {},
   "outputs": [
    {
     "name": "stdout",
     "output_type": "stream",
     "text": [
      "True\n",
      "False\n"
     ]
    }
   ],
   "source": [
    "def mesma_letra(str):\n",
    "    return list(str.split())[0][0].upper() == list(str.split())[1][0].upper()\n",
    "\n",
    "print(mesma_letra('Cão covarde'))\n",
    "print(mesma_letra('Vira Lata'))\n"
   ]
  },
  {
   "cell_type": "markdown",
   "metadata": {},
   "source": [
    "3 Mestre Yoda: Dada uma sentença, a função deve retornar a sentença com as palavras na ordem reversa. \n",
    "- Exemplo: \n",
    "- mestre_yoda('Eu estou em casa') --> 'casa em estou Eu'\n",
    "- mestre_yoda('Estamos prontos') --> 'prontos Estamos' "
   ]
  },
  {
   "cell_type": "code",
   "execution_count": 1,
   "metadata": {},
   "outputs": [
    {
     "name": "stdout",
     "output_type": "stream",
     "text": [
      " casa em estou Eu\n",
      " prontos Estamos\n"
     ]
    }
   ],
   "source": [
    "def mestre_yoda(s):\n",
    "    lista = s.split()[::-1]\n",
    "    s = ''\n",
    "    for i in lista:\n",
    "        s += ' ' + i\n",
    "    return s\n",
    "\n",
    "\n",
    "print(mestre_yoda('Eu estou em casa'))\n",
    "print(mestre_yoda('Estamos prontos'))"
   ]
  },
  {
   "cell_type": "markdown",
   "metadata": {},
   "source": [
    "4 Tem 33: Faça uma função que retorne True se, dada uma lista de inteiros, houver em alguma posição da lista um 3 do lado de outro 3. Exemplo:\n",
    "- tem_33([1,3,3]) --> True\n",
    "- tem_33([1,3,1,3]) --> False\n",
    "- tem_33([3,1,3]) --> False"
   ]
  },
  {
   "cell_type": "code",
   "execution_count": 2,
   "metadata": {},
   "outputs": [
    {
     "name": "stdout",
     "output_type": "stream",
     "text": [
      "True\n",
      "False\n"
     ]
    }
   ],
   "source": [
    "def tem_33(lista):\n",
    "    for i in range(0, len(lista)):\n",
    "        if lista[i] == 3 and i + 1 < len(lista) and lista[i+1] == 3:\n",
    "            return True\n",
    "    return False\n",
    "\n",
    "print(tem_33([1,3,3]))\n",
    "print(tem_33([3,1,3]))"
   ]
  },
  {
   "cell_type": "markdown",
   "metadata": {},
   "source": [
    "5 Blackjack: Faça uma função que receba 3 inteiros entre 1 e 11. Se a soma deles for menor que 21, retorne o valor da soma. Se for mair do que 21 e houver um 11, subtraia 10 da soma antes de apresentar o resultado. Se o valor da soma passar de 21, retorne ‘ESTOUROU’. Exemplo:¶\n",
    "- blackjack(5,6,7) --> 18\n",
    "- blackjack(9,9,9) --> 'ESTOUROU'\n",
    "- blackjack(9,9,11) --> 19"
   ]
  },
  {
   "cell_type": "code",
   "execution_count": 3,
   "metadata": {},
   "outputs": [
    {
     "name": "stdout",
     "output_type": "stream",
     "text": [
      "21\n",
      "16\n",
      "ESTOUROU: 23\n",
      "ESTOUROU: 30\n"
     ]
    }
   ],
   "source": [
    "def blackjack(n1, n2, n3):\n",
    "    somatoria = n1 + n2 + n3\n",
    "    if somatoria <= 21:\n",
    "        if somatoria > 21 and n1 == 11 or n2 == 11 or n3 == 11:\n",
    "            return somatoria - 10\n",
    "        else: \n",
    "            return somatoria\n",
    "        \n",
    "    elif somatoria > 21 and n1 == 11 or n2 == 11 or n3 == 11:\n",
    "        somatoria -= 10\n",
    "        if somatoria <= 21:\n",
    "            return somatoria \n",
    "        else:\n",
    "            return f\"ESTOUROU: {somatoria}\"\n",
    "    else:\n",
    "        return f\"ESTOUROU: {somatoria}\"\n",
    "\n",
    "\n",
    "print(blackjack(10, 10, 11)) \n",
    "print(blackjack(5, 6, 5)) \n",
    "print(blackjack(11, 11, 11)) \n",
    "print(blackjack(10, 10, 10))"
   ]
  },
  {
   "cell_type": "markdown",
   "metadata": {},
   "source": [
    "6 Espião: Escreva uma função que receba uma lista de inteiros e retorne True se contém um 007 em ordem, mesmo que não contínuo. Exemplo:\n",
    "\n",
    "- espiao([1,2,4,0,0,7,5]) --> True\n",
    "- espiao([1,0,2,4,0,5,7]) --> True\n",
    "- espiao([1,7,2,4,0,5,0]) --> False"
   ]
  },
  {
   "cell_type": "code",
   "execution_count": 4,
   "metadata": {},
   "outputs": [
    {
     "name": "stdout",
     "output_type": "stream",
     "text": [
      "True\n",
      "True\n",
      "False\n"
     ]
    }
   ],
   "source": [
    "def espiao(lista):\n",
    "    chave = [0,0,7]\n",
    "    ret = [False, False, False]\n",
    "    k = 0\n",
    "    for i in lista:\n",
    "        if i == chave[k]:\n",
    "            ret[k] = True\n",
    "            k += 1\n",
    "            if k >= len(chave):\n",
    "                break\n",
    "    return ret[0] and ret[1] and ret[2]\n",
    "\n",
    "print(espiao([1,2,4,0,0,7,5]))\n",
    "print(espiao([1,0,2,4,0,5,7]))\n",
    "print(espiao([1,7,2,4,0,5,0]))"
   ]
  },
  {
   "cell_type": "markdown",
   "metadata": {},
   "source": [
    "\n",
    "7 Linha: Crie a classe Linha que tem dois atributos, coordenada1 e coordenada2. Cada coordenada é uma tupla que carrega duas coordenadas cartesianas (x,y) que denotam pontos do segmento de reta. Faça métodos que calculem o comprimento do segmento de reta e sua inclinação."
   ]
  },
  {
   "cell_type": "code",
   "execution_count": 5,
   "metadata": {},
   "outputs": [
    {
     "name": "stdout",
     "output_type": "stream",
     "text": [
      "7.211102550927978\n",
      "1.5\n"
     ]
    }
   ],
   "source": [
    "import math\n",
    "class Linha:\n",
    "    \n",
    "    def __init__(self, c1, c2):\n",
    "        self.coordenada1 = c1\n",
    "        self.coordenada2 = c2\n",
    "        \n",
    "    def calcularComprimento(self):\n",
    "        return math.sqrt((self.coordenada2[0] - self.coordenada1[0])**2 + (self.coordenada2[1] - self.coordenada1[1])**2)\n",
    "    \n",
    "    def calcularInclinacao(self):\n",
    "        return (self.coordenada2[1] - self.coordenada1[1]) / (self.coordenada2[0] - self.coordenada1[0])\n",
    "    \n",
    "linha = Linha((3, 2), (7, 8))\n",
    "print(linha.calcularComprimento())\n",
    "print(linha.calcularInclinacao())"
   ]
  },
  {
   "cell_type": "markdown",
   "metadata": {},
   "source": [
    "8 Figuras: Crie a seguinte hierarquia de classes de figuras geométricas. Veja na figura as fórmulas:\n",
    "\n",
    "- A classe abstrata Figura deve ter o método abstrato area.\n",
    "- A classe concreta Circulo é subclasse de Figura.\n",
    "- A classe abstrata Poligono é subclasse de Figura e deve ter os atributos base e altura .\n",
    "- As classes concretas Triangulo, Losango, Retangulo e Quadrado são subclasses de Poligono. Tente criar mais uma generalização aqui olhando as fórmulas da área.\n",
    "- Os polígonos Retangulo e Quadrado devem implementar a interface Diagonal, que deve ter um método que calcula a diagonal.\n",
    "- Crie uma classe Geometria com uma lista de Figuras com pelo menos uma figura de cada e imprima suas áreas, perímetros e diagonais."
   ]
  },
  {
   "cell_type": "code",
   "execution_count": 6,
   "metadata": {},
   "outputs": [],
   "source": [
    "class Figura:\n",
    "    def area(self):\n",
    "        raise NotImplementedError(\n",
    "            \"A subclasse deve implementar o método abstrato\")\n",
    "    def perimetro(self):\n",
    "        raise NotImplementedError(\n",
    "            \"A subclasse deve implementar o método abstrato\")"
   ]
  },
  {
   "cell_type": "code",
   "execution_count": 7,
   "metadata": {},
   "outputs": [
    {
     "name": "stdout",
     "output_type": "stream",
     "text": [
      "28.274333882308138\n",
      "18.84955592153876\n"
     ]
    }
   ],
   "source": [
    "from math import pi\n",
    "class Circulo(Figura):\n",
    "    def __init__(self, raio):\n",
    "        self.raio = raio\n",
    "    def area(self):\n",
    "        return self.raio**2 * pi\n",
    "    \n",
    "    def perimetro(self):\n",
    "        return 2*pi*self.raio\n",
    "    \n",
    "    \n",
    "circulo = Circulo(3)\n",
    "print(circulo.area())\n",
    "print(circulo.perimetro())"
   ]
  },
  {
   "cell_type": "markdown",
   "metadata": {},
   "source": [
    "9 Jogo de Blacjack: Faça um joguinho simples em Python.\n",
    "\n",
    "Aqui estão os requisitos:\n",
    "\n",
    "- Você precisa criar um jogo de BlackJack (21) baseado em texto simples \n",
    "- O jogo precisa ter um jogador contra um croupier automatizado.\n",
    "- O jogador pode desistir ou bater. \n",
    "- O jogador deve ser capaz de escolher o seu valor de aposta. \n",
    "- Você precisa acompanhar o dinheiro total do jogador. \n",
    "- Você precisa alertar o jogador de vitórias, derrotas ou estouros, etc ... \n",
    "\n",
    "E o mais importante:\n",
    "\n",
    "Você deve usar OOP e classes em alguma parte do seu jogo. Você não pode simplesmente usar funções no seu jogo. Use classes para ajudá-lo a definir o deck e a mão do jogador. Há muitas maneiras certas de fazer isso, então explore bem!"
   ]
  },
  {
   "cell_type": "code",
   "execution_count": 1,
   "metadata": {},
   "outputs": [],
   "source": [
    "\n",
    "class Carta(object):\n",
    "    def __init__(self, valor, naipe):\n",
    "        self.valor = valor\n",
    "        self.naipe = naipe\n",
    "    def __repr__(self):\n",
    "        return '<%s de %s>' % (self.valor, self.naipe)"
   ]
  },
  {
   "cell_type": "code",
   "execution_count": 2,
   "metadata": {},
   "outputs": [],
   "source": [
    "\n",
    "class Baralho(object):\n",
    "    naipes = 'paus copas espadas ouros'.split()\n",
    "    valores = 'A 2 3 4 5 6 7 8 9 10 J Q K'.split()\n",
    "    \n",
    "    def __init__(self):\n",
    "        self.cartas = [Carta(v, n)\n",
    "                      for n in self.naipes\n",
    "                      for v in self.valores]\n",
    "    def __len__(self):\n",
    "        return len(self.cartas)\n",
    "    def __getitem__(self, pos):\n",
    "        return self.cartas[pos]\n",
    "    def __setitem__(self, pos, item):\n",
    "        self.cartas[pos] = item\n",
    "    def __getone__(self):\n",
    "        return self.cartas.pop()"
   ]
  },
  {
   "cell_type": "code",
   "execution_count": 3,
   "metadata": {},
   "outputs": [
    {
     "name": "stdout",
     "output_type": "stream",
     "text": [
      "1) Jogar\n",
      "2) Sair: 1\n",
      "Você recebeu duas cartas iniciais\n",
      "[<2 de copas>, <Q de copas>]\n",
      "Digite sua aposta inicial em Reais (R$):10\n",
      "A CPU recebeu duas cartas inicais\n",
      "[<J de espadas>, <A de copas>]\n",
      "\n",
      "\n",
      "Sua aposta: R$10.0\n",
      "Suas cartas: [<2 de copas>, <Q de copas>]\n",
      "Cartas da CPU: [<J de espadas>, <A de copas>]\n",
      "1) Sacar uma carta\n",
      "2) Desistir\n",
      "3) Bater\n",
      "4) Aumentar aposta\n",
      "5) Sair: 1\n",
      "\n",
      "\n",
      "Você sacou um <8 de copas>\n",
      "\n",
      "\n",
      "Sua aposta: R$10.0\n",
      "Suas cartas: [<2 de copas>, <Q de copas>, <8 de copas>]\n",
      "Cartas da CPU: [<J de espadas>, <A de copas>]\n",
      "1) Sacar uma carta\n",
      "2) Desistir\n",
      "3) Bater\n",
      "4) Aumentar aposta\n",
      "5) Sair: 1\n",
      "\n",
      "\n",
      "Você sacou um <4 de espadas>\n",
      "ESTOUROU, você perdeu!!!\n"
     ]
    }
   ],
   "source": [
    "from random import shuffle\n",
    "\n",
    "b = Baralho()\n",
    "#embaralha cartas\n",
    "shuffle(b)\n",
    "mapa = {'A':1,'2':2,'3':3,'4':4,'5':5,'6':6,'7':7,'8':8,'9':9,'10':10,'J':10,'Q':10,'K':10}\n",
    "cartasUsuario = []\n",
    "cartasNPC = []\n",
    "apostaUsuario = 0\n",
    "menuInicial = int(input('1) Jogar\\n2) Sair: '))\n",
    "jogando = False\n",
    "if menuInicial == 1:\n",
    "    jogando = True\n",
    "    print('Você recebeu duas cartas iniciais')\n",
    "    cartasUsuario.append(b.__getone__())\n",
    "    cartasUsuario.append(b.__getone__())\n",
    "    print(cartasUsuario)\n",
    "    apostaUsuario = float(input('Digite sua aposta inicial em Reais (R$):'))\n",
    "    print('A CPU recebeu duas cartas inicais')\n",
    "    cartasNPC.append(b.__getone__())\n",
    "    cartasNPC.append(b.__getone__())\n",
    "    print(cartasNPC)\n",
    "while jogando:\n",
    "    print('\\n')\n",
    "    print('Sua aposta: R$'+str(apostaUsuario))\n",
    "    print('Suas cartas: '+str(cartasUsuario))\n",
    "    print('Cartas da CPU: '+str(cartasNPC))\n",
    "    menu = int(input('1) Sacar uma carta\\n2) Desistir\\n3) Bater\\n4) Aumentar aposta\\n5) Sair: '))\n",
    "    if menu == 1:\n",
    "        print('\\n')\n",
    "        cartasUsuario.append(b.__getone__())\n",
    "        print('Você sacou um '+ str(cartasUsuario[len(cartasUsuario)-1]))\n",
    "        soma = 0\n",
    "        lista = list(map(str, cartasUsuario))\n",
    "        for i in lista:\n",
    "            soma+=mapa.get(i[1])\n",
    "        if soma == 21:\n",
    "            print('VOCÊ GANHOU!!')\n",
    "            jogando = False\n",
    "        elif soma > 21:\n",
    "            print('ESTOUROU, você perdeu!!!')\n",
    "            jogando = False\n",
    "    elif menu == 2:\n",
    "        print('Você desistiu da partida!!')\n",
    "        jogando = False\n",
    "    elif menu == 3:\n",
    "        somaUsuario = 0\n",
    "        listaUsuario = list(map(str, cartasUsuario))\n",
    "        for i in listaUsuario:\n",
    "            somaUsuario+=int(mapa.get(i[1]))\n",
    "            \n",
    "        somaNPC = 0\n",
    "        listaNPC = list(map(str, cartasNPC))\n",
    "        for i in listaNPC:\n",
    "            somaNPC+=int(mapa.get(i[1]))\n",
    "        \n",
    "        resultUsuario = 21-int(somaUsuario)\n",
    "        resultNPC = 21-int(somaNPC)\n",
    "        \n",
    "        if resultUsuario < resultNPC:\n",
    "            print('VOCÊ GANHOU!!')\n",
    "            jogando = False\n",
    "        elif resultUsuario > resultNPC:\n",
    "            print('VOCÊ PERDEU!!')\n",
    "            jogando = False\n",
    "        else:\n",
    "            print('EMPATE!!')\n",
    "            jogando = False\n",
    "    elif menu == 4:\n",
    "        apostaUsuario += float(input('Aumente a aposta em Reais (R$):'))\n",
    "    elif menu == 5:\n",
    "        jogando = False"
   ]
  },
  {
   "cell_type": "markdown",
   "metadata": {},
   "source": []
  }
 ],
 "metadata": {
  "kernelspec": {
   "display_name": "Python 3",
   "language": "python",
   "name": "python3"
  },
  "language_info": {
   "codemirror_mode": {
    "name": "ipython",
    "version": 3
   },
   "file_extension": ".py",
   "mimetype": "text/x-python",
   "name": "python",
   "nbconvert_exporter": "python",
   "pygments_lexer": "ipython3",
   "version": "3.7.3"
  }
 },
 "nbformat": 4,
 "nbformat_minor": 2
}
